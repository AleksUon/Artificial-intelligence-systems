{
  "nbformat": 4,
  "nbformat_minor": 0,
  "metadata": {
    "colab": {
      "provenance": [],
      "collapsed_sections": [
        "7Xhphl5XF94o",
        "dZSG92naGm85",
        "FOL-ljCdG6gD",
        "g4armklKGLus",
        "Lqp6R9l-HZp-",
        "7EW7X5_CHjj-",
        "GXuIycKgGVJo",
        "uxuz8OzZH3Ys",
        "VG1uhrLaKxXL"
      ]
    },
    "kernelspec": {
      "name": "python3",
      "display_name": "Python 3"
    },
    "language_info": {
      "name": "python"
    }
  },
  "cells": [
    {
      "cell_type": "markdown",
      "source": [
        "Дисциплина «Искусственный интеллект»\n",
        "\n",
        "Рабочая тетрадь № 2"
      ],
      "metadata": {
        "id": "x0jwL0lG6s6O"
      }
    },
    {
      "cell_type": "markdown",
      "source": [
        "# Библиотека NumPy\n"
      ],
      "metadata": {
        "id": "7Xhphl5XF94o"
      }
    },
    {
      "cell_type": "markdown",
      "source": [
        "\n",
        "1.1. Теоретический материал – Библиотека NumPy\n",
        "\n",
        "NumPy (NumericalPython) - это библиотека Python с открытым\n",
        "исходным кодом, которая используется практически во всех областях науки\n",
        "и техники. Это универсальный стандарт для работы с числовыми данными в\n",
        "Python.\n",
        "\n",
        "Если у вас уже есть Python, вы можете установить NumPy с помощью\n",
        "командной строки:\n",
        "- pip install numpy\n",
        "\n",
        "Чтобы начать использовать NumPy необходимо импортировать\n",
        "соответствующую библиотеку:\n",
        " import numpy as np\n",
        "\n",
        "Основным объектом NumPy является однородный многомерный\n",
        "массив (в numpy называется numpy.ndarray). Это многомерный массив\n",
        "элементов (обычно чисел), одного типа.\n",
        "\n",
        "Наиболее важные атрибуты объектов ndarray:\n",
        "\n",
        "- ndarray.ndim - число измерений (чаще их называют \"оси\") массива.\n",
        "\n",
        "- ndarray.shape - размеры массива, его форма. Это кортеж натуральных\n",
        "чисел, показывающий длину массива по каждой оси. Для матрицы из n строк\n",
        "и m столбов, shape будет (n,m). Число элементов кортежа shape равно ndim.\n",
        "- ndarray.size - количество элементов массива. Очевидно, равно\n",
        "произведению всех элементов атрибута shape.\n",
        "\n",
        "- ndarray.dtype - объект, описывающий тип элементов массива. Можно\n",
        "определить dtype, используя стандартные типы данных Python. NumPy здесь\n",
        "предоставляет целый букет возможностей, как встроенных, например: bool_,\n",
        "character, int8, int16, int32, int64, float8, float16, float32, float64, complex64,\n",
        "object_, так и возможность определить собственные типы данных, в том\n",
        "числе и составные.\n",
        "\n",
        "- ndarray.itemsize - размер каждого элемента массива в байтах.\n",
        "\n",
        "- ndarray.data - буфер, содержащий фактические элементы массива.\n",
        "\n",
        "Обычно не нужно использовать этот атрибут, так как обращаться к\n",
        "элементам массива проще всего с помощью индексов."
      ],
      "metadata": {
        "id": "PSKQ0A2PGEp2"
      }
    },
    {
      "cell_type": "markdown",
      "source": [
        "## Примеры"
      ],
      "metadata": {
        "id": "dZSG92naGm85"
      }
    },
    {
      "cell_type": "markdown",
      "source": [
        "1.2.1 Пример\n",
        "\n",
        "Создать массив 5x2. Создать массив 5x2. Вывести все значения массива,значение элемента с индексом (3,1) и второй столбец. Индексация начинается с нуля.\n"
      ],
      "metadata": {
        "id": "UP9EJGY5G1Uy"
      }
    },
    {
      "cell_type": "markdown",
      "source": [
        "Решение:"
      ],
      "metadata": {
        "id": "maNyjDH-9e-q"
      }
    },
    {
      "cell_type": "code",
      "source": [
        "x = np.array([[1,2],[3,4],[5,6],[7,8],[9,10]])\n",
        "print(x)\n",
        "print(x[3][1])\n",
        "print(x[1])"
      ],
      "metadata": {
        "colab": {
          "base_uri": "https://localhost:8080/"
        },
        "id": "-TiqvWHI-G1e",
        "outputId": "6b772aca-e046-407c-b5a6-85e532ea48e6"
      },
      "execution_count": null,
      "outputs": [
        {
          "output_type": "stream",
          "name": "stdout",
          "text": [
            "[[ 1  2]\n",
            " [ 3  4]\n",
            " [ 5  6]\n",
            " [ 7  8]\n",
            " [ 9 10]]\n",
            "8\n",
            "[3 4]\n"
          ]
        }
      ]
    },
    {
      "cell_type": "markdown",
      "source": [
        "Ответ:\n",
        "```\n",
        "[[ 1  2]\n",
        " [ 3  4]\n",
        " [ 5  6]\n",
        " [ 7  8]\n",
        " [ 9 10]]\n",
        "8\n",
        "[3 4]\n",
        " ```"
      ],
      "metadata": {
        "id": "vluYuLD39LjE"
      }
    },
    {
      "cell_type": "markdown",
      "source": [
        "1.2.2 Пример  \n",
        "Выполнить следующее:\n",
        "1. Создать вектор (одномерный массив) размера 10, заполненный нулями.\n",
        "2. Создать вектор размера 10, заполненный единицами.\n",
        "3. Создать вектор размера 10, заполненный заданным числом.\n",
        "4. Создать вектор со значениями от 10 до 19.\n",
        "\n",
        "Решение:"
      ],
      "metadata": {
        "id": "yuT50-OFRDTC"
      }
    },
    {
      "cell_type": "code",
      "source": [
        "a=np.zeros(10)\n",
        "b=np.ones(10)\n",
        "c=np.full(10,5)\n",
        "d=np.arange(10,20)\n",
        "print(a,\"\\n\",b,\"\\n\",c,\"\\n\",d)"
      ],
      "metadata": {
        "colab": {
          "base_uri": "https://localhost:8080/"
        },
        "id": "3tYd3dlnRGLc",
        "outputId": "824f2276-34a7-4856-8a27-67638dd7ebb1"
      },
      "execution_count": null,
      "outputs": [
        {
          "output_type": "stream",
          "name": "stdout",
          "text": [
            "[0. 0. 0. 0. 0. 0. 0. 0. 0. 0.] \n",
            " [1. 1. 1. 1. 1. 1. 1. 1. 1. 1.] \n",
            " [5 5 5 5 5 5 5 5 5 5] \n",
            " [10 11 12 13 14 15 16 17 18 19]\n"
          ]
        }
      ]
    },
    {
      "cell_type": "markdown",
      "source": [
        "Ответ\n",
        "```\n",
        "[0. 0. 0. 0. 0. 0. 0. 0. 0. 0.]\n",
        " [1. 1. 1. 1. 1. 1. 1. 1. 1. 1.]\n",
        " [5 5 5 5 5 5 5 5 5 5]\n",
        " [10 11 12 13 14 15 16 17 18 19]\n",
        "```"
      ],
      "metadata": {
        "id": "1_mt2XLsRH-9"
      }
    },
    {
      "cell_type": "markdown",
      "source": [
        "1.2.3 Пример\n",
        "\n",
        "Создать массив 10x10 со случайными значениями, найти минимум,\n",
        "максимум и среднее значение.\n",
        "\n",
        "Решение:"
      ],
      "metadata": {
        "id": "44IjX7ljRjY3"
      }
    },
    {
      "cell_type": "code",
      "source": [
        "Z = np.random.random((10, 10))\n",
        "Zmin, Zmax, Zmean = Z.min(), Z.max(),Z.mean()\n",
        "print(Zmin, Zmax, Zmean)"
      ],
      "metadata": {
        "colab": {
          "base_uri": "https://localhost:8080/"
        },
        "id": "emTjmlXuRkF0",
        "outputId": "18cb4ea6-6b03-4c56-c28c-95a8ec8ca528"
      },
      "execution_count": null,
      "outputs": [
        {
          "output_type": "stream",
          "name": "stdout",
          "text": [
            "0.008537170818247564 0.9781050207703609 0.4899579689435718\n"
          ]
        }
      ]
    },
    {
      "cell_type": "markdown",
      "source": [
        "Ответ:\n",
        "```\n",
        "0.04013741269925819 0.9850059665792373 0.47267736481867173\n",
        "```"
      ],
      "metadata": {
        "id": "8arDFQzCRkdh"
      }
    },
    {
      "cell_type": "markdown",
      "source": [
        "1.2.4 Пример\n",
        "\n",
        "Задать матрицу размерности 5 на 5 и поменять 2 строки в матрице\n",
        "местами\n"
      ],
      "metadata": {
        "id": "zjwzqomYSR5u"
      }
    },
    {
      "cell_type": "markdown",
      "source": [
        "Решение:"
      ],
      "metadata": {
        "id": "BWmojelASR6A"
      }
    },
    {
      "cell_type": "code",
      "source": [
        "A=np.arange(25).reshape(5,5)\n",
        "A[[0,1]]=A[[1,0]]\n",
        "print(A)"
      ],
      "metadata": {
        "colab": {
          "base_uri": "https://localhost:8080/"
        },
        "outputId": "4275bbb3-3bf3-475e-b216-562b098a54f8",
        "id": "h15jiFtnSR6B"
      },
      "execution_count": null,
      "outputs": [
        {
          "output_type": "stream",
          "name": "stdout",
          "text": [
            "[[ 5  6  7  8  9]\n",
            " [ 0  1  2  3  4]\n",
            " [10 11 12 13 14]\n",
            " [15 16 17 18 19]\n",
            " [20 21 22 23 24]]\n"
          ]
        }
      ]
    },
    {
      "cell_type": "markdown",
      "source": [
        "Ответ:\n",
        "```\n",
        "[[ 5  6  7  8  9]\n",
        " [ 0  1  2  3  4]\n",
        " [10 11 12 13 14]\n",
        " [15 16 17 18 19]\n",
        " [20 21 22 23 24]]\n",
        " ```"
      ],
      "metadata": {
        "id": "byZqZpS9SR6C"
      }
    },
    {
      "cell_type": "markdown",
      "metadata": {
        "id": "8aa1198e"
      },
      "source": [
        "1.2.5 Пример\n",
        "\n",
        "Выяснить результат следующих выражений:\n",
        "\n",
        "0 * np.nan\n",
        "\n",
        "np.nan == np.nan\n",
        "\n",
        "np.inf > np.nan\n",
        "\n",
        "np.nan - np.nan\n",
        "\n",
        "0.3 == 3 * 0."
      ]
    },
    {
      "cell_type": "code",
      "execution_count": null,
      "metadata": {
        "id": "0c583e7a",
        "outputId": "4f14873c-7c6d-429c-d112-dfe552ab11a8",
        "colab": {
          "base_uri": "https://localhost:8080/"
        }
      },
      "outputs": [
        {
          "output_type": "stream",
          "name": "stdout",
          "text": [
            "nan\n",
            "False\n",
            "False\n",
            "nan\n",
            "False\n"
          ]
        }
      ],
      "source": [
        "print(0*np.nan)\n",
        "print(np.nan==np.nan)\n",
        "print(np.inf>np.nan)\n",
        "print(np.nan-np.nan)\n",
        "print(0.3==3*0.1)"
      ]
    },
    {
      "cell_type": "markdown",
      "source": [
        "Ответ\n",
        "```\n",
        "nan\n",
        "False\n",
        "False\n",
        "nan\n",
        "False\n",
        "```"
      ],
      "metadata": {
        "id": "I6RYDyM9S7UN"
      }
    },
    {
      "cell_type": "markdown",
      "metadata": {
        "id": "af84fcf1"
      },
      "source": [
        "1.2.6 Пример\n",
        "\n",
        "Отсортировать массив."
      ]
    },
    {
      "cell_type": "code",
      "execution_count": null,
      "metadata": {
        "id": "25bfc9c8",
        "outputId": "e090ddb9-3ba0-48c1-9b9e-9e668161080d",
        "colab": {
          "base_uri": "https://localhost:8080/"
        }
      },
      "outputs": [
        {
          "output_type": "stream",
          "name": "stdout",
          "text": [
            "[1 2 3 4 5 6 7 8]\n"
          ]
        }
      ],
      "source": [
        "arr=np.array([2,1,5,3,7,4,6,8])\n",
        "print(np.sort(arr))"
      ]
    },
    {
      "cell_type": "markdown",
      "source": [
        "Ответ\n",
        "```\n",
        "[1 2 3 4 5 6 7 8]\n",
        "```"
      ],
      "metadata": {
        "id": "x5X3V4QrTBSy"
      }
    },
    {
      "cell_type": "markdown",
      "source": [
        "## Задание"
      ],
      "metadata": {
        "id": "FOL-ljCdG6gD"
      }
    },
    {
      "cell_type": "markdown",
      "metadata": {
        "id": "10a40341"
      },
      "source": [
        "1.3.1 Задание\n",
        "\n",
        "Создать 8x8 матрицу и заполнить её в шахматном порядке нулями и\n",
        "единицами."
      ]
    },
    {
      "cell_type": "code",
      "execution_count": null,
      "metadata": {
        "id": "569a2d24",
        "outputId": "69fec215-fe2d-4af1-eb66-2010d93d4de2",
        "colab": {
          "base_uri": "https://localhost:8080/"
        }
      },
      "outputs": [
        {
          "output_type": "stream",
          "name": "stdout",
          "text": [
            "[[1 0 1 0 1 0 1 0]\n",
            " [0 1 0 1 0 1 0 1]\n",
            " [1 0 1 0 1 0 1 0]\n",
            " [0 1 0 1 0 1 0 1]\n",
            " [1 0 1 0 1 0 1 0]\n",
            " [0 1 0 1 0 1 0 1]\n",
            " [1 0 1 0 1 0 1 0]\n",
            " [0 1 0 1 0 1 0 1]]\n"
          ]
        }
      ],
      "source": [
        "matrix = np.zeros((8, 8), dtype=int)\n",
        "matrix[::2, ::2] = 1\n",
        "matrix[1::2, 1::2] = 1\n",
        "print(matrix)"
      ]
    },
    {
      "cell_type": "markdown",
      "source": [
        "Ответ\n",
        "```\n",
        "[[1 0 1 0 1 0 1 0]\n",
        " [0 1 0 1 0 1 0 1]\n",
        " [1 0 1 0 1 0 1 0]\n",
        " [0 1 0 1 0 1 0 1]\n",
        " [1 0 1 0 1 0 1 0]\n",
        " [0 1 0 1 0 1 0 1]\n",
        " [1 0 1 0 1 0 1 0]\n",
        " [0 1 0 1 0 1 0 1]]\n",
        " ```"
      ],
      "metadata": {
        "id": "SmZGfDlGTqZ2"
      }
    },
    {
      "cell_type": "markdown",
      "metadata": {
        "id": "1dffa9fa"
      },
      "source": [
        "1.3.2 Задание\n",
        "\n",
        "Создать 5x5 матрицу со значениями в строках от 0 до 4. Для создания\n",
        "необходимо использовать функцию arrange"
      ]
    },
    {
      "cell_type": "code",
      "execution_count": null,
      "metadata": {
        "id": "4ff1e6d2",
        "outputId": "3b1c548e-98eb-4b13-a805-c764ad5a2acf",
        "colab": {
          "base_uri": "https://localhost:8080/"
        }
      },
      "outputs": [
        {
          "output_type": "stream",
          "name": "stdout",
          "text": [
            "[[0. 1. 2. 3. 4.]\n",
            " [0. 1. 2. 3. 4.]\n",
            " [0. 1. 2. 3. 4.]\n",
            " [0. 1. 2. 3. 4.]\n",
            " [0. 1. 2. 3. 4.]]\n"
          ]
        }
      ],
      "source": [
        "matrix = np.zeros((5,5))\n",
        "matrix += np.arange(5)\n",
        "print(matrix)"
      ]
    },
    {
      "cell_type": "markdown",
      "source": [
        "Ответ:\n",
        "```\n",
        "[[0. 1. 2. 3. 4.]\n",
        " [0. 1. 2. 3. 4.]\n",
        " [0. 1. 2. 3. 4.]\n",
        " [0. 1. 2. 3. 4.]\n",
        " [0. 1. 2. 3. 4.]]\n",
        " ```"
      ],
      "metadata": {
        "id": "HiF7xPVDT4rZ"
      }
    },
    {
      "cell_type": "markdown",
      "metadata": {
        "id": "d9efe2ee"
      },
      "source": [
        "1.3.3 Задание\n",
        "\n",
        "Создать массив 3x3x3 со случайными значениями."
      ]
    },
    {
      "cell_type": "code",
      "execution_count": null,
      "metadata": {
        "id": "b251339c",
        "outputId": "cd5d8974-c2b2-4f2c-ef9d-9cd6f0a55823",
        "colab": {
          "base_uri": "https://localhost:8080/"
        }
      },
      "outputs": [
        {
          "output_type": "stream",
          "name": "stdout",
          "text": [
            "[[[0.27795594 0.42184852 0.94038195]\n",
            "  [0.78139188 0.09095546 0.03727583]\n",
            "  [0.76923308 0.91215029 0.96244325]]\n",
            "\n",
            " [[0.69680143 0.15927427 0.08707575]\n",
            "  [0.50148352 0.89993215 0.9081839 ]\n",
            "  [0.20917215 0.74689548 0.27448297]]\n",
            "\n",
            " [[0.02562288 0.76664626 0.48039121]\n",
            "  [0.39922854 0.06307193 0.83304884]\n",
            "  [0.77052211 0.26521196 0.69038525]]]\n"
          ]
        }
      ],
      "source": [
        "arr = np.random.rand(3, 3, 3)\n",
        "print(arr)"
      ]
    },
    {
      "cell_type": "markdown",
      "source": [
        "Ответ:\n",
        "```\n",
        "[[[0.27795594 0.42184852 0.94038195]\n",
        "  [0.78139188 0.09095546 0.03727583]\n",
        "  [0.76923308 0.91215029 0.96244325]]\n",
        "\n",
        " [[0.69680143 0.15927427 0.08707575]\n",
        "  [0.50148352 0.89993215 0.9081839 ]\n",
        "  [0.20917215 0.74689548 0.27448297]]\n",
        "\n",
        " [[0.02562288 0.76664626 0.48039121]\n",
        "  [0.39922854 0.06307193 0.83304884]\n",
        "  [0.77052211 0.26521196 0.69038525]]]\n",
        " ```"
      ],
      "metadata": {
        "id": "308sL5D1T-C-"
      }
    },
    {
      "cell_type": "markdown",
      "metadata": {
        "id": "73a176ce"
      },
      "source": [
        "1.3.4 Задание\n",
        "\n",
        "Создать матрицу с 0 внутри, и 1 на границах."
      ]
    },
    {
      "cell_type": "code",
      "execution_count": null,
      "metadata": {
        "id": "437338da",
        "outputId": "02f586c7-d179-438d-d672-1d56c034f0c6",
        "colab": {
          "base_uri": "https://localhost:8080/"
        }
      },
      "outputs": [
        {
          "output_type": "stream",
          "name": "stdout",
          "text": [
            "[[1. 1. 1. 1. 1. 1. 1. 1. 1. 1.]\n",
            " [1. 0. 0. 0. 0. 0. 0. 0. 0. 1.]\n",
            " [1. 0. 0. 0. 0. 0. 0. 0. 0. 1.]\n",
            " [1. 0. 0. 0. 0. 0. 0. 0. 0. 1.]\n",
            " [1. 0. 0. 0. 0. 0. 0. 0. 0. 1.]\n",
            " [1. 0. 0. 0. 0. 0. 0. 0. 0. 1.]\n",
            " [1. 0. 0. 0. 0. 0. 0. 0. 0. 1.]\n",
            " [1. 0. 0. 0. 0. 0. 0. 0. 0. 1.]\n",
            " [1. 0. 0. 0. 0. 0. 0. 0. 0. 1.]\n",
            " [1. 1. 1. 1. 1. 1. 1. 1. 1. 1.]]\n"
          ]
        }
      ],
      "source": [
        "r = 10\n",
        "c = 10\n",
        "mat = np.zeros((r, c))\n",
        "mat[0, :] = 1\n",
        "mat[-1, :] = 1\n",
        "mat[:, 0] = 1\n",
        "mat[:, -1] = 1\n",
        "print(mat)"
      ]
    },
    {
      "cell_type": "markdown",
      "source": [
        "Ответ:\n",
        "```\n",
        "[[1. 1. 1. 1. 1. 1. 1. 1. 1. 1.]\n",
        " [1. 0. 0. 0. 0. 0. 0. 0. 0. 1.]\n",
        " [1. 0. 0. 0. 0. 0. 0. 0. 0. 1.]\n",
        " [1. 0. 0. 0. 0. 0. 0. 0. 0. 1.]\n",
        " [1. 0. 0. 0. 0. 0. 0. 0. 0. 1.]\n",
        " [1. 0. 0. 0. 0. 0. 0. 0. 0. 1.]\n",
        " [1. 0. 0. 0. 0. 0. 0. 0. 0. 1.]\n",
        " [1. 0. 0. 0. 0. 0. 0. 0. 0. 1.]\n",
        " [1. 0. 0. 0. 0. 0. 0. 0. 0. 1.]\n",
        " [1. 1. 1. 1. 1. 1. 1. 1. 1. 1.]]\n",
        " ```"
      ],
      "metadata": {
        "id": "3yhy5PBcT-pn"
      }
    },
    {
      "cell_type": "markdown",
      "metadata": {
        "id": "8c8bc13a"
      },
      "source": [
        "1.3.5 Задание\n",
        "\n",
        "Создайте массив и отсортируйте его по убыванию."
      ]
    },
    {
      "cell_type": "code",
      "execution_count": null,
      "metadata": {
        "id": "a793bb35",
        "outputId": "ff61eaaf-aa0e-4725-c727-77c00236d7d5",
        "colab": {
          "base_uri": "https://localhost:8080/"
        }
      },
      "outputs": [
        {
          "output_type": "stream",
          "name": "stdout",
          "text": [
            "[105  53  10   9   8   7   6   5   3   1]\n"
          ]
        }
      ],
      "source": [
        "a = np.array([6, 5, 1, 8, 7, 3, 9, 10, 53, 105])\n",
        "sorted = np.sort(a)[::-1]\n",
        "print(sorted)"
      ]
    },
    {
      "cell_type": "markdown",
      "source": [
        "Ответ:\n",
        "```\n",
        "[105  53  10   9   8   7   6   5   3   1]\n",
        " ```"
      ],
      "metadata": {
        "id": "Y1PZPc9ZT_FP"
      }
    },
    {
      "cell_type": "markdown",
      "metadata": {
        "id": "d88077fb"
      },
      "source": [
        "1.3.6 Задание\n",
        "\n",
        "Создайте матрицу, выведите ее форму, размер и размерность."
      ]
    },
    {
      "cell_type": "code",
      "execution_count": null,
      "metadata": {
        "id": "4797da3d",
        "outputId": "ce5bd229-7830-49fd-9c08-d18dfdec7e60",
        "colab": {
          "base_uri": "https://localhost:8080/"
        }
      },
      "outputs": [
        {
          "output_type": "stream",
          "name": "stdout",
          "text": [
            "[[6 2 8 0]\n",
            " [1 4 3 7]\n",
            " [9 5 7 2]]\n",
            "Форма: (3, 4)\n",
            "Размер: 12\n",
            "Размерность: 2\n"
          ]
        }
      ],
      "source": [
        "mat = np.array([[6, 2, 8, 0], [1, 4, 3, 7], [9, 5, 7, 2]])\n",
        "print(mat)\n",
        "print(\"Форма:\", mat.shape)\n",
        "print(\"Размер:\", mat.size)\n",
        "print(\"Размерность:\", mat.ndim)"
      ]
    },
    {
      "cell_type": "markdown",
      "source": [
        "Ответ:\n",
        "```\n",
        "[[6 2 8 0]\n",
        " [1 4 3 7]\n",
        " [9 5 7 2]]\n",
        "Форма: (3, 4)\n",
        "Размер: 12\n",
        "Размерность: 2\n",
        " ```"
      ],
      "metadata": {
        "id": "u6u57wS3T_ff"
      }
    },
    {
      "cell_type": "markdown",
      "source": [
        "# Библиотека Pandas\n"
      ],
      "metadata": {
        "id": "g4armklKGLus"
      }
    },
    {
      "cell_type": "markdown",
      "source": [
        "2.1. Теоретический материал – Библиотека Pandas\n",
        "\n",
        "Первым шагом в любом начинании в области машинного обучения\n",
        "является введение исходных данных в систему. Исходные данные могут\n",
        "вводиться вручную, содержаться в файле или храниться в интернете в какомлибо формате. Кроме того, часто требуется получить данные из нескольких источников.\n",
        "\n",
        "Библиотека pandas – это удобный и быстрый инструмент для работы\n",
        "с данными, обладающий большим функционалом. Если очень кратко, то\n",
        "pandas – это библиотека, которая предоставляет очень удобные с точки\n",
        "зрения использования инструменты для хранения данных и работе с ними.\n",
        "Библиотека pandas присутствует в стандартной поставке Anaconda.\n",
        "Если же ее там нет, то его можно установить отдельно. Для этого введите\n",
        "командной строке:\n",
        "- pip install pandas\n",
        "\n",
        "Для импорта библиотеки используйте команду:\n",
        "```\n",
        "import pandas as pd\n",
        "```\n",
        "Библиотека pandas предоставляет две ключевые структуры данных:\n",
        "Series и DataFrame.\n",
        "- Series – это одномерная структура данных, ее можно представить, как\n",
        "таблицу с одной строкой. С Series можно работать как с обычным массивом\n",
        "(обращаться по номеру индекса), и как с ассоциированным массивом, когда\n",
        "можно использовать ключ для доступа к элементам данных.\n",
        "- DataFrame – это двумерная структура. Идейно она очень похожа на\n",
        "обычную таблицу, что выражается в способе ее создания и работе с ее\n",
        "элементами.\n"
      ],
      "metadata": {
        "id": "HbYwD_0l_9JL"
      }
    },
    {
      "cell_type": "markdown",
      "source": [
        "## Пример"
      ],
      "metadata": {
        "id": "Lqp6R9l-HZp-"
      }
    },
    {
      "cell_type": "markdown",
      "metadata": {
        "id": "f5d8f5db"
      },
      "source": [
        "2.2.1 Пример\n",
        "\n",
        "Создать Series из списка Python, словаря Python, и массива Numpy(установить буквенные метки для последнего)."
      ]
    },
    {
      "cell_type": "code",
      "execution_count": null,
      "metadata": {
        "id": "d9d766a1",
        "outputId": "bffc6a72-bd58-4ac1-8548-46d8c6ce91da",
        "colab": {
          "base_uri": "https://localhost:8080/"
        }
      },
      "outputs": [
        {
          "output_type": "stream",
          "name": "stdout",
          "text": [
            "0    1\n",
            "1    2\n",
            "2    3\n",
            "3    4\n",
            "4    5\n",
            "dtype: int64\n",
            "a    1\n",
            "b    2\n",
            "c    3\n",
            "dtype: int64\n",
            "a    1\n",
            "b    2\n",
            "c    3\n",
            "d    4\n",
            "e    5\n",
            "dtype: int64\n"
          ]
        }
      ],
      "source": [
        "lst=[1,2,3,4,5]\n",
        "d={'a':1,'b':2,'c':3}\n",
        "ndarr=np.array([1,2,3,4,5])\n",
        "\n",
        "s1=pd.Series(lst)\n",
        "s2=pd.Series(d)\n",
        "s3=pd.Series(ndarr,['a','b','c','d','e'])\n",
        "\n",
        "print(s1)\n",
        "print(s2)\n",
        "print(s3)"
      ]
    },
    {
      "cell_type": "markdown",
      "source": [
        "Ответ:\n",
        "```\n",
        "0    1\n",
        "1    2\n",
        "2    3\n",
        "3    4\n",
        "4    5\n",
        "dtype: int64\n",
        "a    1\n",
        "b    2\n",
        "c    3\n",
        "dtype: int64\n",
        "a    1\n",
        "b    2\n",
        "c    3\n",
        "d    4\n",
        "e    5\n",
        "dtype: int64\n",
        "```"
      ],
      "metadata": {
        "id": "rTjgN13_Xg8w"
      }
    },
    {
      "cell_type": "markdown",
      "metadata": {
        "id": "f38d9828"
      },
      "source": [
        "2.2.2 Пример\n",
        "\n",
        "Дано два Series. Напечатать их первые элементы и все элементы после третьего (во втором фрейме)"
      ]
    },
    {
      "cell_type": "code",
      "execution_count": null,
      "metadata": {
        "id": "c9b18830",
        "outputId": "92779219-26f9-49fe-e4c5-7b73b100b6ad",
        "colab": {
          "base_uri": "https://localhost:8080/"
        }
      },
      "outputs": [
        {
          "output_type": "stream",
          "name": "stdout",
          "text": [
            "1\n",
            "5\n",
            "3    2\n",
            "4    1\n",
            "dtype: int64\n"
          ]
        }
      ],
      "source": [
        "s1=pd.Series([1,2,3,4,5],['a','b','c','d','e'])\n",
        "s2=pd.Series([5,4,3,2,1])\n",
        "print(s1['a'])\n",
        "print(s2[0])\n",
        "print(s2[3:])"
      ]
    },
    {
      "cell_type": "markdown",
      "source": [
        "Ответ:\n",
        "```\n",
        "1\n",
        "5\n",
        "3    2\n",
        "4    1\n",
        "dtype: int64\n",
        "```"
      ],
      "metadata": {
        "id": "I9yCoIKOXgdK"
      }
    },
    {
      "cell_type": "markdown",
      "metadata": {
        "id": "a9704c5c"
      },
      "source": [
        "2.2.3 Пример\n",
        "\n",
        "Создайте новый фрейм данных."
      ]
    },
    {
      "cell_type": "code",
      "execution_count": null,
      "metadata": {
        "id": "22d24082",
        "outputId": "cd1f4e70-bbce-4737-e1b7-3129dd7b297c",
        "colab": {
          "base_uri": "https://localhost:8080/",
          "height": 112
        }
      },
      "outputs": [
        {
          "output_type": "execute_result",
          "data": {
            "text/plain": [
              "                Имя  Возраст  Водитель\n",
              "0     Джеки Джексон       38      True\n",
              "1  Стивен Стивенсон       25     False"
            ],
            "text/html": [
              "\n",
              "  <div id=\"df-b8ab0d21-df5e-4c97-a605-7c5a50c5abe0\" class=\"colab-df-container\">\n",
              "    <div>\n",
              "<style scoped>\n",
              "    .dataframe tbody tr th:only-of-type {\n",
              "        vertical-align: middle;\n",
              "    }\n",
              "\n",
              "    .dataframe tbody tr th {\n",
              "        vertical-align: top;\n",
              "    }\n",
              "\n",
              "    .dataframe thead th {\n",
              "        text-align: right;\n",
              "    }\n",
              "</style>\n",
              "<table border=\"1\" class=\"dataframe\">\n",
              "  <thead>\n",
              "    <tr style=\"text-align: right;\">\n",
              "      <th></th>\n",
              "      <th>Имя</th>\n",
              "      <th>Возраст</th>\n",
              "      <th>Водитель</th>\n",
              "    </tr>\n",
              "  </thead>\n",
              "  <tbody>\n",
              "    <tr>\n",
              "      <th>0</th>\n",
              "      <td>Джеки Джексон</td>\n",
              "      <td>38</td>\n",
              "      <td>True</td>\n",
              "    </tr>\n",
              "    <tr>\n",
              "      <th>1</th>\n",
              "      <td>Стивен Стивенсон</td>\n",
              "      <td>25</td>\n",
              "      <td>False</td>\n",
              "    </tr>\n",
              "  </tbody>\n",
              "</table>\n",
              "</div>\n",
              "    <div class=\"colab-df-buttons\">\n",
              "\n",
              "  <div class=\"colab-df-container\">\n",
              "    <button class=\"colab-df-convert\" onclick=\"convertToInteractive('df-b8ab0d21-df5e-4c97-a605-7c5a50c5abe0')\"\n",
              "            title=\"Convert this dataframe to an interactive table.\"\n",
              "            style=\"display:none;\">\n",
              "\n",
              "  <svg xmlns=\"http://www.w3.org/2000/svg\" height=\"24px\" viewBox=\"0 -960 960 960\">\n",
              "    <path d=\"M120-120v-720h720v720H120Zm60-500h600v-160H180v160Zm220 220h160v-160H400v160Zm0 220h160v-160H400v160ZM180-400h160v-160H180v160Zm440 0h160v-160H620v160ZM180-180h160v-160H180v160Zm440 0h160v-160H620v160Z\"/>\n",
              "  </svg>\n",
              "    </button>\n",
              "\n",
              "  <style>\n",
              "    .colab-df-container {\n",
              "      display:flex;\n",
              "      gap: 12px;\n",
              "    }\n",
              "\n",
              "    .colab-df-convert {\n",
              "      background-color: #E8F0FE;\n",
              "      border: none;\n",
              "      border-radius: 50%;\n",
              "      cursor: pointer;\n",
              "      display: none;\n",
              "      fill: #1967D2;\n",
              "      height: 32px;\n",
              "      padding: 0 0 0 0;\n",
              "      width: 32px;\n",
              "    }\n",
              "\n",
              "    .colab-df-convert:hover {\n",
              "      background-color: #E2EBFA;\n",
              "      box-shadow: 0px 1px 2px rgba(60, 64, 67, 0.3), 0px 1px 3px 1px rgba(60, 64, 67, 0.15);\n",
              "      fill: #174EA6;\n",
              "    }\n",
              "\n",
              "    .colab-df-buttons div {\n",
              "      margin-bottom: 4px;\n",
              "    }\n",
              "\n",
              "    [theme=dark] .colab-df-convert {\n",
              "      background-color: #3B4455;\n",
              "      fill: #D2E3FC;\n",
              "    }\n",
              "\n",
              "    [theme=dark] .colab-df-convert:hover {\n",
              "      background-color: #434B5C;\n",
              "      box-shadow: 0px 1px 3px 1px rgba(0, 0, 0, 0.15);\n",
              "      filter: drop-shadow(0px 1px 2px rgba(0, 0, 0, 0.3));\n",
              "      fill: #FFFFFF;\n",
              "    }\n",
              "  </style>\n",
              "\n",
              "    <script>\n",
              "      const buttonEl =\n",
              "        document.querySelector('#df-b8ab0d21-df5e-4c97-a605-7c5a50c5abe0 button.colab-df-convert');\n",
              "      buttonEl.style.display =\n",
              "        google.colab.kernel.accessAllowed ? 'block' : 'none';\n",
              "\n",
              "      async function convertToInteractive(key) {\n",
              "        const element = document.querySelector('#df-b8ab0d21-df5e-4c97-a605-7c5a50c5abe0');\n",
              "        const dataTable =\n",
              "          await google.colab.kernel.invokeFunction('convertToInteractive',\n",
              "                                                    [key], {});\n",
              "        if (!dataTable) return;\n",
              "\n",
              "        const docLinkHtml = 'Like what you see? Visit the ' +\n",
              "          '<a target=\"_blank\" href=https://colab.research.google.com/notebooks/data_table.ipynb>data table notebook</a>'\n",
              "          + ' to learn more about interactive tables.';\n",
              "        element.innerHTML = '';\n",
              "        dataTable['output_type'] = 'display_data';\n",
              "        await google.colab.output.renderOutput(dataTable, element);\n",
              "        const docLink = document.createElement('div');\n",
              "        docLink.innerHTML = docLinkHtml;\n",
              "        element.appendChild(docLink);\n",
              "      }\n",
              "    </script>\n",
              "  </div>\n",
              "\n",
              "\n",
              "<div id=\"df-9717685c-1d04-47b6-9319-8783faf7404d\">\n",
              "  <button class=\"colab-df-quickchart\" onclick=\"quickchart('df-9717685c-1d04-47b6-9319-8783faf7404d')\"\n",
              "            title=\"Suggest charts\"\n",
              "            style=\"display:none;\">\n",
              "\n",
              "<svg xmlns=\"http://www.w3.org/2000/svg\" height=\"24px\"viewBox=\"0 0 24 24\"\n",
              "     width=\"24px\">\n",
              "    <g>\n",
              "        <path d=\"M19 3H5c-1.1 0-2 .9-2 2v14c0 1.1.9 2 2 2h14c1.1 0 2-.9 2-2V5c0-1.1-.9-2-2-2zM9 17H7v-7h2v7zm4 0h-2V7h2v10zm4 0h-2v-4h2v4z\"/>\n",
              "    </g>\n",
              "</svg>\n",
              "  </button>\n",
              "\n",
              "<style>\n",
              "  .colab-df-quickchart {\n",
              "      --bg-color: #E8F0FE;\n",
              "      --fill-color: #1967D2;\n",
              "      --hover-bg-color: #E2EBFA;\n",
              "      --hover-fill-color: #174EA6;\n",
              "      --disabled-fill-color: #AAA;\n",
              "      --disabled-bg-color: #DDD;\n",
              "  }\n",
              "\n",
              "  [theme=dark] .colab-df-quickchart {\n",
              "      --bg-color: #3B4455;\n",
              "      --fill-color: #D2E3FC;\n",
              "      --hover-bg-color: #434B5C;\n",
              "      --hover-fill-color: #FFFFFF;\n",
              "      --disabled-bg-color: #3B4455;\n",
              "      --disabled-fill-color: #666;\n",
              "  }\n",
              "\n",
              "  .colab-df-quickchart {\n",
              "    background-color: var(--bg-color);\n",
              "    border: none;\n",
              "    border-radius: 50%;\n",
              "    cursor: pointer;\n",
              "    display: none;\n",
              "    fill: var(--fill-color);\n",
              "    height: 32px;\n",
              "    padding: 0;\n",
              "    width: 32px;\n",
              "  }\n",
              "\n",
              "  .colab-df-quickchart:hover {\n",
              "    background-color: var(--hover-bg-color);\n",
              "    box-shadow: 0 1px 2px rgba(60, 64, 67, 0.3), 0 1px 3px 1px rgba(60, 64, 67, 0.15);\n",
              "    fill: var(--button-hover-fill-color);\n",
              "  }\n",
              "\n",
              "  .colab-df-quickchart-complete:disabled,\n",
              "  .colab-df-quickchart-complete:disabled:hover {\n",
              "    background-color: var(--disabled-bg-color);\n",
              "    fill: var(--disabled-fill-color);\n",
              "    box-shadow: none;\n",
              "  }\n",
              "\n",
              "  .colab-df-spinner {\n",
              "    border: 2px solid var(--fill-color);\n",
              "    border-color: transparent;\n",
              "    border-bottom-color: var(--fill-color);\n",
              "    animation:\n",
              "      spin 1s steps(1) infinite;\n",
              "  }\n",
              "\n",
              "  @keyframes spin {\n",
              "    0% {\n",
              "      border-color: transparent;\n",
              "      border-bottom-color: var(--fill-color);\n",
              "      border-left-color: var(--fill-color);\n",
              "    }\n",
              "    20% {\n",
              "      border-color: transparent;\n",
              "      border-left-color: var(--fill-color);\n",
              "      border-top-color: var(--fill-color);\n",
              "    }\n",
              "    30% {\n",
              "      border-color: transparent;\n",
              "      border-left-color: var(--fill-color);\n",
              "      border-top-color: var(--fill-color);\n",
              "      border-right-color: var(--fill-color);\n",
              "    }\n",
              "    40% {\n",
              "      border-color: transparent;\n",
              "      border-right-color: var(--fill-color);\n",
              "      border-top-color: var(--fill-color);\n",
              "    }\n",
              "    60% {\n",
              "      border-color: transparent;\n",
              "      border-right-color: var(--fill-color);\n",
              "    }\n",
              "    80% {\n",
              "      border-color: transparent;\n",
              "      border-right-color: var(--fill-color);\n",
              "      border-bottom-color: var(--fill-color);\n",
              "    }\n",
              "    90% {\n",
              "      border-color: transparent;\n",
              "      border-bottom-color: var(--fill-color);\n",
              "    }\n",
              "  }\n",
              "</style>\n",
              "\n",
              "  <script>\n",
              "    async function quickchart(key) {\n",
              "      const quickchartButtonEl =\n",
              "        document.querySelector('#' + key + ' button');\n",
              "      quickchartButtonEl.disabled = true;  // To prevent multiple clicks.\n",
              "      quickchartButtonEl.classList.add('colab-df-spinner');\n",
              "      try {\n",
              "        const charts = await google.colab.kernel.invokeFunction(\n",
              "            'suggestCharts', [key], {});\n",
              "      } catch (error) {\n",
              "        console.error('Error during call to suggestCharts:', error);\n",
              "      }\n",
              "      quickchartButtonEl.classList.remove('colab-df-spinner');\n",
              "      quickchartButtonEl.classList.add('colab-df-quickchart-complete');\n",
              "    }\n",
              "    (() => {\n",
              "      let quickchartButtonEl =\n",
              "        document.querySelector('#df-9717685c-1d04-47b6-9319-8783faf7404d button');\n",
              "      quickchartButtonEl.style.display =\n",
              "        google.colab.kernel.accessAllowed ? 'block' : 'none';\n",
              "    })();\n",
              "  </script>\n",
              "</div>\n",
              "    </div>\n",
              "  </div>\n"
            ],
            "application/vnd.google.colaboratory.intrinsic+json": {
              "type": "dataframe",
              "variable_name": "dataframe",
              "summary": "{\n  \"name\": \"dataframe\",\n  \"rows\": 2,\n  \"fields\": [\n    {\n      \"column\": \"\\u0418\\u043c\\u044f\",\n      \"properties\": {\n        \"dtype\": \"string\",\n        \"num_unique_values\": 2,\n        \"samples\": [\n          \"\\u0421\\u0442\\u0438\\u0432\\u0435\\u043d \\u0421\\u0442\\u0438\\u0432\\u0435\\u043d\\u0441\\u043e\\u043d\",\n          \"\\u0414\\u0436\\u0435\\u043a\\u0438 \\u0414\\u0436\\u0435\\u043a\\u0441\\u043e\\u043d\"\n        ],\n        \"semantic_type\": \"\",\n        \"description\": \"\"\n      }\n    },\n    {\n      \"column\": \"\\u0412\\u043e\\u0437\\u0440\\u0430\\u0441\\u0442\",\n      \"properties\": {\n        \"dtype\": \"number\",\n        \"std\": 9,\n        \"min\": 25,\n        \"max\": 38,\n        \"num_unique_values\": 2,\n        \"samples\": [\n          25,\n          38\n        ],\n        \"semantic_type\": \"\",\n        \"description\": \"\"\n      }\n    },\n    {\n      \"column\": \"\\u0412\\u043e\\u0434\\u0438\\u0442\\u0435\\u043b\\u044c\",\n      \"properties\": {\n        \"dtype\": \"boolean\",\n        \"num_unique_values\": 2,\n        \"samples\": [\n          false,\n          true\n        ],\n        \"semantic_type\": \"\",\n        \"description\": \"\"\n      }\n    }\n  ]\n}"
            }
          },
          "metadata": {},
          "execution_count": 37
        }
      ],
      "source": [
        "dataframe=pd.DataFrame()\n",
        "dataframe['Имя']=['Джеки Джексон','Стивен Стивенсон']\n",
        "dataframe['Возраст']=[38,25]\n",
        "dataframe['Водитель']=[True,False]\n",
        "dataframe"
      ]
    },
    {
      "cell_type": "markdown",
      "metadata": {
        "id": "2d01a177"
      },
      "source": [
        "2.2.4 Пример\n",
        "\n",
        "Загрузите фрейм данных по ссылке:\n",
        "https://raw.githubusercontent.com/lukes/ISO-3166-Countries-with-Regional-Codes/master/all/all.csv"
      ]
    },
    {
      "cell_type": "code",
      "execution_count": null,
      "metadata": {
        "id": "33018193",
        "outputId": "55595b71-a7e4-4553-df16-d903a8e528db",
        "colab": {
          "base_uri": "https://localhost:8080/",
          "height": 310
        }
      },
      "outputs": [
        {
          "output_type": "execute_result",
          "data": {
            "text/plain": [
              "             name alpha-2 alpha-3  country-code     iso_3166-2   region  \\\n",
              "0     Afghanistan      AF     AFG             4  ISO 3166-2:AF     Asia   \n",
              "1   Åland Islands      AX     ALA           248  ISO 3166-2:AX   Europe   \n",
              "2         Albania      AL     ALB             8  ISO 3166-2:AL   Europe   \n",
              "3         Algeria      DZ     DZA            12  ISO 3166-2:DZ   Africa   \n",
              "4  American Samoa      AS     ASM            16  ISO 3166-2:AS  Oceania   \n",
              "\n",
              "        sub-region intermediate-region  region-code  sub-region-code  \\\n",
              "0    Southern Asia                 NaN        142.0             34.0   \n",
              "1  Northern Europe                 NaN        150.0            154.0   \n",
              "2  Southern Europe                 NaN        150.0             39.0   \n",
              "3  Northern Africa                 NaN          2.0             15.0   \n",
              "4        Polynesia                 NaN          9.0             61.0   \n",
              "\n",
              "   intermediate-region-code  \n",
              "0                       NaN  \n",
              "1                       NaN  \n",
              "2                       NaN  \n",
              "3                       NaN  \n",
              "4                       NaN  "
            ],
            "text/html": [
              "\n",
              "  <div id=\"df-95bc1a05-3afc-4c45-9c36-4e65d1d22c7e\" class=\"colab-df-container\">\n",
              "    <div>\n",
              "<style scoped>\n",
              "    .dataframe tbody tr th:only-of-type {\n",
              "        vertical-align: middle;\n",
              "    }\n",
              "\n",
              "    .dataframe tbody tr th {\n",
              "        vertical-align: top;\n",
              "    }\n",
              "\n",
              "    .dataframe thead th {\n",
              "        text-align: right;\n",
              "    }\n",
              "</style>\n",
              "<table border=\"1\" class=\"dataframe\">\n",
              "  <thead>\n",
              "    <tr style=\"text-align: right;\">\n",
              "      <th></th>\n",
              "      <th>name</th>\n",
              "      <th>alpha-2</th>\n",
              "      <th>alpha-3</th>\n",
              "      <th>country-code</th>\n",
              "      <th>iso_3166-2</th>\n",
              "      <th>region</th>\n",
              "      <th>sub-region</th>\n",
              "      <th>intermediate-region</th>\n",
              "      <th>region-code</th>\n",
              "      <th>sub-region-code</th>\n",
              "      <th>intermediate-region-code</th>\n",
              "    </tr>\n",
              "  </thead>\n",
              "  <tbody>\n",
              "    <tr>\n",
              "      <th>0</th>\n",
              "      <td>Afghanistan</td>\n",
              "      <td>AF</td>\n",
              "      <td>AFG</td>\n",
              "      <td>4</td>\n",
              "      <td>ISO 3166-2:AF</td>\n",
              "      <td>Asia</td>\n",
              "      <td>Southern Asia</td>\n",
              "      <td>NaN</td>\n",
              "      <td>142.0</td>\n",
              "      <td>34.0</td>\n",
              "      <td>NaN</td>\n",
              "    </tr>\n",
              "    <tr>\n",
              "      <th>1</th>\n",
              "      <td>Åland Islands</td>\n",
              "      <td>AX</td>\n",
              "      <td>ALA</td>\n",
              "      <td>248</td>\n",
              "      <td>ISO 3166-2:AX</td>\n",
              "      <td>Europe</td>\n",
              "      <td>Northern Europe</td>\n",
              "      <td>NaN</td>\n",
              "      <td>150.0</td>\n",
              "      <td>154.0</td>\n",
              "      <td>NaN</td>\n",
              "    </tr>\n",
              "    <tr>\n",
              "      <th>2</th>\n",
              "      <td>Albania</td>\n",
              "      <td>AL</td>\n",
              "      <td>ALB</td>\n",
              "      <td>8</td>\n",
              "      <td>ISO 3166-2:AL</td>\n",
              "      <td>Europe</td>\n",
              "      <td>Southern Europe</td>\n",
              "      <td>NaN</td>\n",
              "      <td>150.0</td>\n",
              "      <td>39.0</td>\n",
              "      <td>NaN</td>\n",
              "    </tr>\n",
              "    <tr>\n",
              "      <th>3</th>\n",
              "      <td>Algeria</td>\n",
              "      <td>DZ</td>\n",
              "      <td>DZA</td>\n",
              "      <td>12</td>\n",
              "      <td>ISO 3166-2:DZ</td>\n",
              "      <td>Africa</td>\n",
              "      <td>Northern Africa</td>\n",
              "      <td>NaN</td>\n",
              "      <td>2.0</td>\n",
              "      <td>15.0</td>\n",
              "      <td>NaN</td>\n",
              "    </tr>\n",
              "    <tr>\n",
              "      <th>4</th>\n",
              "      <td>American Samoa</td>\n",
              "      <td>AS</td>\n",
              "      <td>ASM</td>\n",
              "      <td>16</td>\n",
              "      <td>ISO 3166-2:AS</td>\n",
              "      <td>Oceania</td>\n",
              "      <td>Polynesia</td>\n",
              "      <td>NaN</td>\n",
              "      <td>9.0</td>\n",
              "      <td>61.0</td>\n",
              "      <td>NaN</td>\n",
              "    </tr>\n",
              "  </tbody>\n",
              "</table>\n",
              "</div>\n",
              "    <div class=\"colab-df-buttons\">\n",
              "\n",
              "  <div class=\"colab-df-container\">\n",
              "    <button class=\"colab-df-convert\" onclick=\"convertToInteractive('df-95bc1a05-3afc-4c45-9c36-4e65d1d22c7e')\"\n",
              "            title=\"Convert this dataframe to an interactive table.\"\n",
              "            style=\"display:none;\">\n",
              "\n",
              "  <svg xmlns=\"http://www.w3.org/2000/svg\" height=\"24px\" viewBox=\"0 -960 960 960\">\n",
              "    <path d=\"M120-120v-720h720v720H120Zm60-500h600v-160H180v160Zm220 220h160v-160H400v160Zm0 220h160v-160H400v160ZM180-400h160v-160H180v160Zm440 0h160v-160H620v160ZM180-180h160v-160H180v160Zm440 0h160v-160H620v160Z\"/>\n",
              "  </svg>\n",
              "    </button>\n",
              "\n",
              "  <style>\n",
              "    .colab-df-container {\n",
              "      display:flex;\n",
              "      gap: 12px;\n",
              "    }\n",
              "\n",
              "    .colab-df-convert {\n",
              "      background-color: #E8F0FE;\n",
              "      border: none;\n",
              "      border-radius: 50%;\n",
              "      cursor: pointer;\n",
              "      display: none;\n",
              "      fill: #1967D2;\n",
              "      height: 32px;\n",
              "      padding: 0 0 0 0;\n",
              "      width: 32px;\n",
              "    }\n",
              "\n",
              "    .colab-df-convert:hover {\n",
              "      background-color: #E2EBFA;\n",
              "      box-shadow: 0px 1px 2px rgba(60, 64, 67, 0.3), 0px 1px 3px 1px rgba(60, 64, 67, 0.15);\n",
              "      fill: #174EA6;\n",
              "    }\n",
              "\n",
              "    .colab-df-buttons div {\n",
              "      margin-bottom: 4px;\n",
              "    }\n",
              "\n",
              "    [theme=dark] .colab-df-convert {\n",
              "      background-color: #3B4455;\n",
              "      fill: #D2E3FC;\n",
              "    }\n",
              "\n",
              "    [theme=dark] .colab-df-convert:hover {\n",
              "      background-color: #434B5C;\n",
              "      box-shadow: 0px 1px 3px 1px rgba(0, 0, 0, 0.15);\n",
              "      filter: drop-shadow(0px 1px 2px rgba(0, 0, 0, 0.3));\n",
              "      fill: #FFFFFF;\n",
              "    }\n",
              "  </style>\n",
              "\n",
              "    <script>\n",
              "      const buttonEl =\n",
              "        document.querySelector('#df-95bc1a05-3afc-4c45-9c36-4e65d1d22c7e button.colab-df-convert');\n",
              "      buttonEl.style.display =\n",
              "        google.colab.kernel.accessAllowed ? 'block' : 'none';\n",
              "\n",
              "      async function convertToInteractive(key) {\n",
              "        const element = document.querySelector('#df-95bc1a05-3afc-4c45-9c36-4e65d1d22c7e');\n",
              "        const dataTable =\n",
              "          await google.colab.kernel.invokeFunction('convertToInteractive',\n",
              "                                                    [key], {});\n",
              "        if (!dataTable) return;\n",
              "\n",
              "        const docLinkHtml = 'Like what you see? Visit the ' +\n",
              "          '<a target=\"_blank\" href=https://colab.research.google.com/notebooks/data_table.ipynb>data table notebook</a>'\n",
              "          + ' to learn more about interactive tables.';\n",
              "        element.innerHTML = '';\n",
              "        dataTable['output_type'] = 'display_data';\n",
              "        await google.colab.output.renderOutput(dataTable, element);\n",
              "        const docLink = document.createElement('div');\n",
              "        docLink.innerHTML = docLinkHtml;\n",
              "        element.appendChild(docLink);\n",
              "      }\n",
              "    </script>\n",
              "  </div>\n",
              "\n",
              "\n",
              "<div id=\"df-4f0e909f-775d-4a87-a761-16b71f93b5a2\">\n",
              "  <button class=\"colab-df-quickchart\" onclick=\"quickchart('df-4f0e909f-775d-4a87-a761-16b71f93b5a2')\"\n",
              "            title=\"Suggest charts\"\n",
              "            style=\"display:none;\">\n",
              "\n",
              "<svg xmlns=\"http://www.w3.org/2000/svg\" height=\"24px\"viewBox=\"0 0 24 24\"\n",
              "     width=\"24px\">\n",
              "    <g>\n",
              "        <path d=\"M19 3H5c-1.1 0-2 .9-2 2v14c0 1.1.9 2 2 2h14c1.1 0 2-.9 2-2V5c0-1.1-.9-2-2-2zM9 17H7v-7h2v7zm4 0h-2V7h2v10zm4 0h-2v-4h2v4z\"/>\n",
              "    </g>\n",
              "</svg>\n",
              "  </button>\n",
              "\n",
              "<style>\n",
              "  .colab-df-quickchart {\n",
              "      --bg-color: #E8F0FE;\n",
              "      --fill-color: #1967D2;\n",
              "      --hover-bg-color: #E2EBFA;\n",
              "      --hover-fill-color: #174EA6;\n",
              "      --disabled-fill-color: #AAA;\n",
              "      --disabled-bg-color: #DDD;\n",
              "  }\n",
              "\n",
              "  [theme=dark] .colab-df-quickchart {\n",
              "      --bg-color: #3B4455;\n",
              "      --fill-color: #D2E3FC;\n",
              "      --hover-bg-color: #434B5C;\n",
              "      --hover-fill-color: #FFFFFF;\n",
              "      --disabled-bg-color: #3B4455;\n",
              "      --disabled-fill-color: #666;\n",
              "  }\n",
              "\n",
              "  .colab-df-quickchart {\n",
              "    background-color: var(--bg-color);\n",
              "    border: none;\n",
              "    border-radius: 50%;\n",
              "    cursor: pointer;\n",
              "    display: none;\n",
              "    fill: var(--fill-color);\n",
              "    height: 32px;\n",
              "    padding: 0;\n",
              "    width: 32px;\n",
              "  }\n",
              "\n",
              "  .colab-df-quickchart:hover {\n",
              "    background-color: var(--hover-bg-color);\n",
              "    box-shadow: 0 1px 2px rgba(60, 64, 67, 0.3), 0 1px 3px 1px rgba(60, 64, 67, 0.15);\n",
              "    fill: var(--button-hover-fill-color);\n",
              "  }\n",
              "\n",
              "  .colab-df-quickchart-complete:disabled,\n",
              "  .colab-df-quickchart-complete:disabled:hover {\n",
              "    background-color: var(--disabled-bg-color);\n",
              "    fill: var(--disabled-fill-color);\n",
              "    box-shadow: none;\n",
              "  }\n",
              "\n",
              "  .colab-df-spinner {\n",
              "    border: 2px solid var(--fill-color);\n",
              "    border-color: transparent;\n",
              "    border-bottom-color: var(--fill-color);\n",
              "    animation:\n",
              "      spin 1s steps(1) infinite;\n",
              "  }\n",
              "\n",
              "  @keyframes spin {\n",
              "    0% {\n",
              "      border-color: transparent;\n",
              "      border-bottom-color: var(--fill-color);\n",
              "      border-left-color: var(--fill-color);\n",
              "    }\n",
              "    20% {\n",
              "      border-color: transparent;\n",
              "      border-left-color: var(--fill-color);\n",
              "      border-top-color: var(--fill-color);\n",
              "    }\n",
              "    30% {\n",
              "      border-color: transparent;\n",
              "      border-left-color: var(--fill-color);\n",
              "      border-top-color: var(--fill-color);\n",
              "      border-right-color: var(--fill-color);\n",
              "    }\n",
              "    40% {\n",
              "      border-color: transparent;\n",
              "      border-right-color: var(--fill-color);\n",
              "      border-top-color: var(--fill-color);\n",
              "    }\n",
              "    60% {\n",
              "      border-color: transparent;\n",
              "      border-right-color: var(--fill-color);\n",
              "    }\n",
              "    80% {\n",
              "      border-color: transparent;\n",
              "      border-right-color: var(--fill-color);\n",
              "      border-bottom-color: var(--fill-color);\n",
              "    }\n",
              "    90% {\n",
              "      border-color: transparent;\n",
              "      border-bottom-color: var(--fill-color);\n",
              "    }\n",
              "  }\n",
              "</style>\n",
              "\n",
              "  <script>\n",
              "    async function quickchart(key) {\n",
              "      const quickchartButtonEl =\n",
              "        document.querySelector('#' + key + ' button');\n",
              "      quickchartButtonEl.disabled = true;  // To prevent multiple clicks.\n",
              "      quickchartButtonEl.classList.add('colab-df-spinner');\n",
              "      try {\n",
              "        const charts = await google.colab.kernel.invokeFunction(\n",
              "            'suggestCharts', [key], {});\n",
              "      } catch (error) {\n",
              "        console.error('Error during call to suggestCharts:', error);\n",
              "      }\n",
              "      quickchartButtonEl.classList.remove('colab-df-spinner');\n",
              "      quickchartButtonEl.classList.add('colab-df-quickchart-complete');\n",
              "    }\n",
              "    (() => {\n",
              "      let quickchartButtonEl =\n",
              "        document.querySelector('#df-4f0e909f-775d-4a87-a761-16b71f93b5a2 button');\n",
              "      quickchartButtonEl.style.display =\n",
              "        google.colab.kernel.accessAllowed ? 'block' : 'none';\n",
              "    })();\n",
              "  </script>\n",
              "</div>\n",
              "    </div>\n",
              "  </div>\n"
            ],
            "application/vnd.google.colaboratory.intrinsic+json": {
              "type": "dataframe",
              "variable_name": "dataframe",
              "summary": "{\n  \"name\": \"dataframe\",\n  \"rows\": 249,\n  \"fields\": [\n    {\n      \"column\": \"name\",\n      \"properties\": {\n        \"dtype\": \"string\",\n        \"num_unique_values\": 249,\n        \"samples\": [\n          \"Malta\",\n          \"Angola\",\n          \"Heard Island and McDonald Islands\"\n        ],\n        \"semantic_type\": \"\",\n        \"description\": \"\"\n      }\n    },\n    {\n      \"column\": \"alpha-2\",\n      \"properties\": {\n        \"dtype\": \"string\",\n        \"num_unique_values\": 248,\n        \"samples\": [\n          \"BN\",\n          \"AO\",\n          \"RU\"\n        ],\n        \"semantic_type\": \"\",\n        \"description\": \"\"\n      }\n    },\n    {\n      \"column\": \"alpha-3\",\n      \"properties\": {\n        \"dtype\": \"string\",\n        \"num_unique_values\": 249,\n        \"samples\": [\n          \"MLT\",\n          \"AGO\",\n          \"HMD\"\n        ],\n        \"semantic_type\": \"\",\n        \"description\": \"\"\n      }\n    },\n    {\n      \"column\": \"country-code\",\n      \"properties\": {\n        \"dtype\": \"number\",\n        \"std\": 252,\n        \"min\": 4,\n        \"max\": 894,\n        \"num_unique_values\": 249,\n        \"samples\": [\n          470,\n          24,\n          334\n        ],\n        \"semantic_type\": \"\",\n        \"description\": \"\"\n      }\n    },\n    {\n      \"column\": \"iso_3166-2\",\n      \"properties\": {\n        \"dtype\": \"string\",\n        \"num_unique_values\": 249,\n        \"samples\": [\n          \"ISO 3166-2:MT\",\n          \"ISO 3166-2:AO\",\n          \"ISO 3166-2:HM\"\n        ],\n        \"semantic_type\": \"\",\n        \"description\": \"\"\n      }\n    },\n    {\n      \"column\": \"region\",\n      \"properties\": {\n        \"dtype\": \"category\",\n        \"num_unique_values\": 5,\n        \"samples\": [\n          \"Europe\",\n          \"Americas\",\n          \"Africa\"\n        ],\n        \"semantic_type\": \"\",\n        \"description\": \"\"\n      }\n    },\n    {\n      \"column\": \"sub-region\",\n      \"properties\": {\n        \"dtype\": \"category\",\n        \"num_unique_values\": 17,\n        \"samples\": [\n          \"Southern Asia\",\n          \"Northern Europe\",\n          \"Sub-Saharan Africa\"\n        ],\n        \"semantic_type\": \"\",\n        \"description\": \"\"\n      }\n    },\n    {\n      \"column\": \"intermediate-region\",\n      \"properties\": {\n        \"dtype\": \"category\",\n        \"num_unique_values\": 8,\n        \"samples\": [\n          \"Caribbean\",\n          \"Southern Africa\",\n          \"Middle Africa\"\n        ],\n        \"semantic_type\": \"\",\n        \"description\": \"\"\n      }\n    },\n    {\n      \"column\": \"region-code\",\n      \"properties\": {\n        \"dtype\": \"number\",\n        \"std\": 67.34783175969469,\n        \"min\": 2.0,\n        \"max\": 150.0,\n        \"num_unique_values\": 5,\n        \"samples\": [\n          150.0,\n          19.0,\n          2.0\n        ],\n        \"semantic_type\": \"\",\n        \"description\": \"\"\n      }\n    },\n    {\n      \"column\": \"sub-region-code\",\n      \"properties\": {\n        \"dtype\": \"number\",\n        \"std\": 138.33416984258193,\n        \"min\": 15.0,\n        \"max\": 419.0,\n        \"num_unique_values\": 17,\n        \"samples\": [\n          34.0,\n          154.0,\n          202.0\n        ],\n        \"semantic_type\": \"\",\n        \"description\": \"\"\n      }\n    },\n    {\n      \"column\": \"intermediate-region-code\",\n      \"properties\": {\n        \"dtype\": \"number\",\n        \"std\": 111.00032248742237,\n        \"min\": 5.0,\n        \"max\": 830.0,\n        \"num_unique_values\": 8,\n        \"samples\": [\n          29.0,\n          18.0,\n          17.0\n        ],\n        \"semantic_type\": \"\",\n        \"description\": \"\"\n      }\n    }\n  ]\n}"
            }
          },
          "metadata": {},
          "execution_count": 72
        }
      ],
      "source": [
        "url=\"https://raw.githubusercontent.com/lukes/ISO-3166-Countries-with-Regional-Codes/master/all/all.csv\"\n",
        "dataframe=pd.read_csv(url)\n",
        "dataframe.head(5)"
      ]
    },
    {
      "cell_type": "markdown",
      "metadata": {
        "id": "2890af84"
      },
      "source": [
        "2.2.5 Пример\n",
        "\n",
        "Проанализировать характеристики фрейма данных."
      ]
    },
    {
      "cell_type": "code",
      "execution_count": null,
      "metadata": {
        "id": "1a6ca51a",
        "outputId": "a0db5e41-a627-45ba-b4a7-8c9242814ed0",
        "colab": {
          "base_uri": "https://localhost:8080/"
        }
      },
      "outputs": [
        {
          "output_type": "stream",
          "name": "stdout",
          "text": [
            "            name alpha-2 alpha-3  country-code     iso_3166-2  region  \\\n",
            "0    Afghanistan      AF     AFG             4  ISO 3166-2:AF    Asia   \n",
            "1  Åland Islands      AX     ALA           248  ISO 3166-2:AX  Europe   \n",
            "\n",
            "        sub-region intermediate-region  region-code  sub-region-code  \\\n",
            "0    Southern Asia                 NaN        142.0             34.0   \n",
            "1  Northern Europe                 NaN        150.0            154.0   \n",
            "\n",
            "   intermediate-region-code  \n",
            "0                       NaN  \n",
            "1                       NaN  \n",
            "         name alpha-2 alpha-3  country-code     iso_3166-2  region  \\\n",
            "246     Yemen      YE     YEM           887  ISO 3166-2:YE    Asia   \n",
            "247    Zambia      ZM     ZMB           894  ISO 3166-2:ZM  Africa   \n",
            "248  Zimbabwe      ZW     ZWE           716  ISO 3166-2:ZW  Africa   \n",
            "\n",
            "             sub-region intermediate-region  region-code  sub-region-code  \\\n",
            "246        Western Asia                 NaN        142.0            145.0   \n",
            "247  Sub-Saharan Africa      Eastern Africa          2.0            202.0   \n",
            "248  Sub-Saharan Africa      Eastern Africa          2.0            202.0   \n",
            "\n",
            "     intermediate-region-code  \n",
            "246                       NaN  \n",
            "247                      14.0  \n",
            "248                      14.0  \n",
            "(249, 11)\n",
            "       country-code  region-code  sub-region-code  intermediate-region-code\n",
            "count    249.000000   248.000000       248.000000                107.000000\n",
            "mean     433.835341    65.951613       179.866935                 31.719626\n",
            "std      252.980446    67.347832       138.334170                111.000322\n",
            "min        4.000000     2.000000        15.000000                  5.000000\n",
            "25%      218.000000     9.000000        53.750000                 11.000000\n",
            "50%      434.000000    19.000000       154.000000                 14.000000\n",
            "75%      652.000000   142.000000       202.000000                 29.000000\n",
            "max      894.000000   150.000000       419.000000                830.000000\n"
          ]
        }
      ],
      "source": [
        "url='https://raw.githubusercontent.com/lukes/ISO-3166-Countries-with-Regional-Codes/master/all/all.csv'\n",
        "dataframe=pd.read_csv(url)\n",
        "print(dataframe.head(2))\n",
        "print(dataframe.tail(3))\n",
        "print(dataframe.shape)\n",
        "print(dataframe.describe())"
      ]
    },
    {
      "cell_type": "markdown",
      "source": [
        "Ответ:\n",
        "```\n",
        "            name alpha-2 alpha-3  country-code     iso_3166-2  region  \\\n",
        "0    Afghanistan      AF     AFG             4  ISO 3166-2:AF    Asia   \n",
        "1  Åland Islands      AX     ALA           248  ISO 3166-2:AX  Europe   \n",
        "\n",
        "        sub-region intermediate-region  region-code  sub-region-code  \\\n",
        "0    Southern Asia                 NaN        142.0             34.0   \n",
        "1  Northern Europe                 NaN        150.0            154.0   \n",
        "\n",
        "   intermediate-region-code  \n",
        "0                       NaN  \n",
        "1                       NaN  \n",
        "         name alpha-2 alpha-3  country-code     iso_3166-2  region  \\\n",
        "246     Yemen      YE     YEM           887  ISO 3166-2:YE    Asia   \n",
        "247    Zambia      ZM     ZMB           894  ISO 3166-2:ZM  Africa   \n",
        "248  Zimbabwe      ZW     ZWE           716  ISO 3166-2:ZW  Africa   \n",
        "\n",
        "             sub-region intermediate-region  region-code  sub-region-code  \\\n",
        "246        Western Asia                 NaN        142.0            145.0   \n",
        "247  Sub-Saharan Africa      Eastern Africa          2.0            202.0   \n",
        "248  Sub-Saharan Africa      Eastern Africa          2.0            202.0   \n",
        "\n",
        "     intermediate-region-code  \n",
        "246                       NaN  \n",
        "247                      14.0  \n",
        "248                      14.0  \n",
        "(249, 11)\n",
        "       country-code  region-code  sub-region-code  intermediate-region-code\n",
        "count    249.000000   248.000000       248.000000                107.000000\n",
        "mean     433.835341    65.951613       179.866935                 31.719626\n",
        "std      252.980446    67.347832       138.334170                111.000322\n",
        "min        4.000000     2.000000        15.000000                  5.000000\n",
        "25%      218.000000     9.000000        53.750000                 11.000000\n",
        "50%      434.000000    19.000000       154.000000                 14.000000\n",
        "75%      652.000000   142.000000       202.000000                 29.000000\n",
        "max      894.000000   150.000000       419.000000                830.000000\n",
        "```"
      ],
      "metadata": {
        "id": "fz1aBaAuXeuD"
      }
    },
    {
      "cell_type": "markdown",
      "metadata": {
        "id": "58020572"
      },
      "source": [
        "2.2.6 Пример\n",
        "\n",
        "Выберите индивидуальные данные или срезы фрейма данных"
      ]
    },
    {
      "cell_type": "code",
      "execution_count": null,
      "metadata": {
        "id": "85f231a2",
        "outputId": "1766f078-257a-4f3e-f9f1-e15bad339761",
        "colab": {
          "base_uri": "https://localhost:8080/",
          "height": 213
        }
      },
      "outputs": [
        {
          "output_type": "execute_result",
          "data": {
            "text/plain": [
              "            name alpha-2 alpha-3  country-code     iso_3166-2  region  \\\n",
              "1  Åland Islands      AX     ALA           248  ISO 3166-2:AX  Europe   \n",
              "2        Albania      AL     ALB             8  ISO 3166-2:AL  Europe   \n",
              "3        Algeria      DZ     DZA            12  ISO 3166-2:DZ  Africa   \n",
              "\n",
              "        sub-region intermediate-region  region-code  sub-region-code  \\\n",
              "1  Northern Europe                 NaN        150.0            154.0   \n",
              "2  Southern Europe                 NaN        150.0             39.0   \n",
              "3  Northern Africa                 NaN          2.0             15.0   \n",
              "\n",
              "   intermediate-region-code  \n",
              "1                       NaN  \n",
              "2                       NaN  \n",
              "3                       NaN  "
            ],
            "text/html": [
              "\n",
              "  <div id=\"df-b7ee6e99-aff9-44ee-a0be-78c83e5e36de\" class=\"colab-df-container\">\n",
              "    <div>\n",
              "<style scoped>\n",
              "    .dataframe tbody tr th:only-of-type {\n",
              "        vertical-align: middle;\n",
              "    }\n",
              "\n",
              "    .dataframe tbody tr th {\n",
              "        vertical-align: top;\n",
              "    }\n",
              "\n",
              "    .dataframe thead th {\n",
              "        text-align: right;\n",
              "    }\n",
              "</style>\n",
              "<table border=\"1\" class=\"dataframe\">\n",
              "  <thead>\n",
              "    <tr style=\"text-align: right;\">\n",
              "      <th></th>\n",
              "      <th>name</th>\n",
              "      <th>alpha-2</th>\n",
              "      <th>alpha-3</th>\n",
              "      <th>country-code</th>\n",
              "      <th>iso_3166-2</th>\n",
              "      <th>region</th>\n",
              "      <th>sub-region</th>\n",
              "      <th>intermediate-region</th>\n",
              "      <th>region-code</th>\n",
              "      <th>sub-region-code</th>\n",
              "      <th>intermediate-region-code</th>\n",
              "    </tr>\n",
              "  </thead>\n",
              "  <tbody>\n",
              "    <tr>\n",
              "      <th>1</th>\n",
              "      <td>Åland Islands</td>\n",
              "      <td>AX</td>\n",
              "      <td>ALA</td>\n",
              "      <td>248</td>\n",
              "      <td>ISO 3166-2:AX</td>\n",
              "      <td>Europe</td>\n",
              "      <td>Northern Europe</td>\n",
              "      <td>NaN</td>\n",
              "      <td>150.0</td>\n",
              "      <td>154.0</td>\n",
              "      <td>NaN</td>\n",
              "    </tr>\n",
              "    <tr>\n",
              "      <th>2</th>\n",
              "      <td>Albania</td>\n",
              "      <td>AL</td>\n",
              "      <td>ALB</td>\n",
              "      <td>8</td>\n",
              "      <td>ISO 3166-2:AL</td>\n",
              "      <td>Europe</td>\n",
              "      <td>Southern Europe</td>\n",
              "      <td>NaN</td>\n",
              "      <td>150.0</td>\n",
              "      <td>39.0</td>\n",
              "      <td>NaN</td>\n",
              "    </tr>\n",
              "    <tr>\n",
              "      <th>3</th>\n",
              "      <td>Algeria</td>\n",
              "      <td>DZ</td>\n",
              "      <td>DZA</td>\n",
              "      <td>12</td>\n",
              "      <td>ISO 3166-2:DZ</td>\n",
              "      <td>Africa</td>\n",
              "      <td>Northern Africa</td>\n",
              "      <td>NaN</td>\n",
              "      <td>2.0</td>\n",
              "      <td>15.0</td>\n",
              "      <td>NaN</td>\n",
              "    </tr>\n",
              "  </tbody>\n",
              "</table>\n",
              "</div>\n",
              "    <div class=\"colab-df-buttons\">\n",
              "\n",
              "  <div class=\"colab-df-container\">\n",
              "    <button class=\"colab-df-convert\" onclick=\"convertToInteractive('df-b7ee6e99-aff9-44ee-a0be-78c83e5e36de')\"\n",
              "            title=\"Convert this dataframe to an interactive table.\"\n",
              "            style=\"display:none;\">\n",
              "\n",
              "  <svg xmlns=\"http://www.w3.org/2000/svg\" height=\"24px\" viewBox=\"0 -960 960 960\">\n",
              "    <path d=\"M120-120v-720h720v720H120Zm60-500h600v-160H180v160Zm220 220h160v-160H400v160Zm0 220h160v-160H400v160ZM180-400h160v-160H180v160Zm440 0h160v-160H620v160ZM180-180h160v-160H180v160Zm440 0h160v-160H620v160Z\"/>\n",
              "  </svg>\n",
              "    </button>\n",
              "\n",
              "  <style>\n",
              "    .colab-df-container {\n",
              "      display:flex;\n",
              "      gap: 12px;\n",
              "    }\n",
              "\n",
              "    .colab-df-convert {\n",
              "      background-color: #E8F0FE;\n",
              "      border: none;\n",
              "      border-radius: 50%;\n",
              "      cursor: pointer;\n",
              "      display: none;\n",
              "      fill: #1967D2;\n",
              "      height: 32px;\n",
              "      padding: 0 0 0 0;\n",
              "      width: 32px;\n",
              "    }\n",
              "\n",
              "    .colab-df-convert:hover {\n",
              "      background-color: #E2EBFA;\n",
              "      box-shadow: 0px 1px 2px rgba(60, 64, 67, 0.3), 0px 1px 3px 1px rgba(60, 64, 67, 0.15);\n",
              "      fill: #174EA6;\n",
              "    }\n",
              "\n",
              "    .colab-df-buttons div {\n",
              "      margin-bottom: 4px;\n",
              "    }\n",
              "\n",
              "    [theme=dark] .colab-df-convert {\n",
              "      background-color: #3B4455;\n",
              "      fill: #D2E3FC;\n",
              "    }\n",
              "\n",
              "    [theme=dark] .colab-df-convert:hover {\n",
              "      background-color: #434B5C;\n",
              "      box-shadow: 0px 1px 3px 1px rgba(0, 0, 0, 0.15);\n",
              "      filter: drop-shadow(0px 1px 2px rgba(0, 0, 0, 0.3));\n",
              "      fill: #FFFFFF;\n",
              "    }\n",
              "  </style>\n",
              "\n",
              "    <script>\n",
              "      const buttonEl =\n",
              "        document.querySelector('#df-b7ee6e99-aff9-44ee-a0be-78c83e5e36de button.colab-df-convert');\n",
              "      buttonEl.style.display =\n",
              "        google.colab.kernel.accessAllowed ? 'block' : 'none';\n",
              "\n",
              "      async function convertToInteractive(key) {\n",
              "        const element = document.querySelector('#df-b7ee6e99-aff9-44ee-a0be-78c83e5e36de');\n",
              "        const dataTable =\n",
              "          await google.colab.kernel.invokeFunction('convertToInteractive',\n",
              "                                                    [key], {});\n",
              "        if (!dataTable) return;\n",
              "\n",
              "        const docLinkHtml = 'Like what you see? Visit the ' +\n",
              "          '<a target=\"_blank\" href=https://colab.research.google.com/notebooks/data_table.ipynb>data table notebook</a>'\n",
              "          + ' to learn more about interactive tables.';\n",
              "        element.innerHTML = '';\n",
              "        dataTable['output_type'] = 'display_data';\n",
              "        await google.colab.output.renderOutput(dataTable, element);\n",
              "        const docLink = document.createElement('div');\n",
              "        docLink.innerHTML = docLinkHtml;\n",
              "        element.appendChild(docLink);\n",
              "      }\n",
              "    </script>\n",
              "  </div>\n",
              "\n",
              "\n",
              "<div id=\"df-6635dece-ae93-4e78-8ff5-022840cd2544\">\n",
              "  <button class=\"colab-df-quickchart\" onclick=\"quickchart('df-6635dece-ae93-4e78-8ff5-022840cd2544')\"\n",
              "            title=\"Suggest charts\"\n",
              "            style=\"display:none;\">\n",
              "\n",
              "<svg xmlns=\"http://www.w3.org/2000/svg\" height=\"24px\"viewBox=\"0 0 24 24\"\n",
              "     width=\"24px\">\n",
              "    <g>\n",
              "        <path d=\"M19 3H5c-1.1 0-2 .9-2 2v14c0 1.1.9 2 2 2h14c1.1 0 2-.9 2-2V5c0-1.1-.9-2-2-2zM9 17H7v-7h2v7zm4 0h-2V7h2v10zm4 0h-2v-4h2v4z\"/>\n",
              "    </g>\n",
              "</svg>\n",
              "  </button>\n",
              "\n",
              "<style>\n",
              "  .colab-df-quickchart {\n",
              "      --bg-color: #E8F0FE;\n",
              "      --fill-color: #1967D2;\n",
              "      --hover-bg-color: #E2EBFA;\n",
              "      --hover-fill-color: #174EA6;\n",
              "      --disabled-fill-color: #AAA;\n",
              "      --disabled-bg-color: #DDD;\n",
              "  }\n",
              "\n",
              "  [theme=dark] .colab-df-quickchart {\n",
              "      --bg-color: #3B4455;\n",
              "      --fill-color: #D2E3FC;\n",
              "      --hover-bg-color: #434B5C;\n",
              "      --hover-fill-color: #FFFFFF;\n",
              "      --disabled-bg-color: #3B4455;\n",
              "      --disabled-fill-color: #666;\n",
              "  }\n",
              "\n",
              "  .colab-df-quickchart {\n",
              "    background-color: var(--bg-color);\n",
              "    border: none;\n",
              "    border-radius: 50%;\n",
              "    cursor: pointer;\n",
              "    display: none;\n",
              "    fill: var(--fill-color);\n",
              "    height: 32px;\n",
              "    padding: 0;\n",
              "    width: 32px;\n",
              "  }\n",
              "\n",
              "  .colab-df-quickchart:hover {\n",
              "    background-color: var(--hover-bg-color);\n",
              "    box-shadow: 0 1px 2px rgba(60, 64, 67, 0.3), 0 1px 3px 1px rgba(60, 64, 67, 0.15);\n",
              "    fill: var(--button-hover-fill-color);\n",
              "  }\n",
              "\n",
              "  .colab-df-quickchart-complete:disabled,\n",
              "  .colab-df-quickchart-complete:disabled:hover {\n",
              "    background-color: var(--disabled-bg-color);\n",
              "    fill: var(--disabled-fill-color);\n",
              "    box-shadow: none;\n",
              "  }\n",
              "\n",
              "  .colab-df-spinner {\n",
              "    border: 2px solid var(--fill-color);\n",
              "    border-color: transparent;\n",
              "    border-bottom-color: var(--fill-color);\n",
              "    animation:\n",
              "      spin 1s steps(1) infinite;\n",
              "  }\n",
              "\n",
              "  @keyframes spin {\n",
              "    0% {\n",
              "      border-color: transparent;\n",
              "      border-bottom-color: var(--fill-color);\n",
              "      border-left-color: var(--fill-color);\n",
              "    }\n",
              "    20% {\n",
              "      border-color: transparent;\n",
              "      border-left-color: var(--fill-color);\n",
              "      border-top-color: var(--fill-color);\n",
              "    }\n",
              "    30% {\n",
              "      border-color: transparent;\n",
              "      border-left-color: var(--fill-color);\n",
              "      border-top-color: var(--fill-color);\n",
              "      border-right-color: var(--fill-color);\n",
              "    }\n",
              "    40% {\n",
              "      border-color: transparent;\n",
              "      border-right-color: var(--fill-color);\n",
              "      border-top-color: var(--fill-color);\n",
              "    }\n",
              "    60% {\n",
              "      border-color: transparent;\n",
              "      border-right-color: var(--fill-color);\n",
              "    }\n",
              "    80% {\n",
              "      border-color: transparent;\n",
              "      border-right-color: var(--fill-color);\n",
              "      border-bottom-color: var(--fill-color);\n",
              "    }\n",
              "    90% {\n",
              "      border-color: transparent;\n",
              "      border-bottom-color: var(--fill-color);\n",
              "    }\n",
              "  }\n",
              "</style>\n",
              "\n",
              "  <script>\n",
              "    async function quickchart(key) {\n",
              "      const quickchartButtonEl =\n",
              "        document.querySelector('#' + key + ' button');\n",
              "      quickchartButtonEl.disabled = true;  // To prevent multiple clicks.\n",
              "      quickchartButtonEl.classList.add('colab-df-spinner');\n",
              "      try {\n",
              "        const charts = await google.colab.kernel.invokeFunction(\n",
              "            'suggestCharts', [key], {});\n",
              "      } catch (error) {\n",
              "        console.error('Error during call to suggestCharts:', error);\n",
              "      }\n",
              "      quickchartButtonEl.classList.remove('colab-df-spinner');\n",
              "      quickchartButtonEl.classList.add('colab-df-quickchart-complete');\n",
              "    }\n",
              "    (() => {\n",
              "      let quickchartButtonEl =\n",
              "        document.querySelector('#df-6635dece-ae93-4e78-8ff5-022840cd2544 button');\n",
              "      quickchartButtonEl.style.display =\n",
              "        google.colab.kernel.accessAllowed ? 'block' : 'none';\n",
              "    })();\n",
              "  </script>\n",
              "</div>\n",
              "    </div>\n",
              "  </div>\n"
            ],
            "application/vnd.google.colaboratory.intrinsic+json": {
              "type": "dataframe",
              "repr_error": "0"
            }
          },
          "metadata": {},
          "execution_count": 74
        }
      ],
      "source": [
        "url='https://raw.githubusercontent.com/lukes/ISO-3166-Countries-with-Regional-Codes/master/all/all.csv'\n",
        "dataframe=pd.read_csv(url)\n",
        "dataframe.iloc[1:4]"
      ]
    },
    {
      "cell_type": "markdown",
      "metadata": {
        "id": "bcef7ff8"
      },
      "source": [
        "2.2.7 Пример\n",
        "\n",
        "Требуется отобрать строки фрейма данных на основе некоторого условия. Необходимо сформировать новый фрейм данных из пассажиров первого класса.\n",
        "\n",
        "В связи с неработоспособностью ссылки, сформируем новый фрейм данных из alpha-2 AX"
      ]
    },
    {
      "cell_type": "code",
      "execution_count": null,
      "metadata": {
        "id": "bcbb904f",
        "outputId": "5801379c-214e-411a-c163-38735b1f9808",
        "colab": {
          "base_uri": "https://localhost:8080/",
          "height": 115
        }
      },
      "outputs": [
        {
          "output_type": "execute_result",
          "data": {
            "text/plain": [
              "            name alpha-2 alpha-3  country-code     iso_3166-2  region  \\\n",
              "1  Åland Islands      AX     ALA           248  ISO 3166-2:AX  Europe   \n",
              "\n",
              "        sub-region intermediate-region  region-code  sub-region-code  \\\n",
              "1  Northern Europe                 NaN        150.0            154.0   \n",
              "\n",
              "   intermediate-region-code  \n",
              "1                       NaN  "
            ],
            "text/html": [
              "\n",
              "  <div id=\"df-c1e358ab-1360-40f5-8c4a-49b0b1d32b63\" class=\"colab-df-container\">\n",
              "    <div>\n",
              "<style scoped>\n",
              "    .dataframe tbody tr th:only-of-type {\n",
              "        vertical-align: middle;\n",
              "    }\n",
              "\n",
              "    .dataframe tbody tr th {\n",
              "        vertical-align: top;\n",
              "    }\n",
              "\n",
              "    .dataframe thead th {\n",
              "        text-align: right;\n",
              "    }\n",
              "</style>\n",
              "<table border=\"1\" class=\"dataframe\">\n",
              "  <thead>\n",
              "    <tr style=\"text-align: right;\">\n",
              "      <th></th>\n",
              "      <th>name</th>\n",
              "      <th>alpha-2</th>\n",
              "      <th>alpha-3</th>\n",
              "      <th>country-code</th>\n",
              "      <th>iso_3166-2</th>\n",
              "      <th>region</th>\n",
              "      <th>sub-region</th>\n",
              "      <th>intermediate-region</th>\n",
              "      <th>region-code</th>\n",
              "      <th>sub-region-code</th>\n",
              "      <th>intermediate-region-code</th>\n",
              "    </tr>\n",
              "  </thead>\n",
              "  <tbody>\n",
              "    <tr>\n",
              "      <th>1</th>\n",
              "      <td>Åland Islands</td>\n",
              "      <td>AX</td>\n",
              "      <td>ALA</td>\n",
              "      <td>248</td>\n",
              "      <td>ISO 3166-2:AX</td>\n",
              "      <td>Europe</td>\n",
              "      <td>Northern Europe</td>\n",
              "      <td>NaN</td>\n",
              "      <td>150.0</td>\n",
              "      <td>154.0</td>\n",
              "      <td>NaN</td>\n",
              "    </tr>\n",
              "  </tbody>\n",
              "</table>\n",
              "</div>\n",
              "    <div class=\"colab-df-buttons\">\n",
              "\n",
              "  <div class=\"colab-df-container\">\n",
              "    <button class=\"colab-df-convert\" onclick=\"convertToInteractive('df-c1e358ab-1360-40f5-8c4a-49b0b1d32b63')\"\n",
              "            title=\"Convert this dataframe to an interactive table.\"\n",
              "            style=\"display:none;\">\n",
              "\n",
              "  <svg xmlns=\"http://www.w3.org/2000/svg\" height=\"24px\" viewBox=\"0 -960 960 960\">\n",
              "    <path d=\"M120-120v-720h720v720H120Zm60-500h600v-160H180v160Zm220 220h160v-160H400v160Zm0 220h160v-160H400v160ZM180-400h160v-160H180v160Zm440 0h160v-160H620v160ZM180-180h160v-160H180v160Zm440 0h160v-160H620v160Z\"/>\n",
              "  </svg>\n",
              "    </button>\n",
              "\n",
              "  <style>\n",
              "    .colab-df-container {\n",
              "      display:flex;\n",
              "      gap: 12px;\n",
              "    }\n",
              "\n",
              "    .colab-df-convert {\n",
              "      background-color: #E8F0FE;\n",
              "      border: none;\n",
              "      border-radius: 50%;\n",
              "      cursor: pointer;\n",
              "      display: none;\n",
              "      fill: #1967D2;\n",
              "      height: 32px;\n",
              "      padding: 0 0 0 0;\n",
              "      width: 32px;\n",
              "    }\n",
              "\n",
              "    .colab-df-convert:hover {\n",
              "      background-color: #E2EBFA;\n",
              "      box-shadow: 0px 1px 2px rgba(60, 64, 67, 0.3), 0px 1px 3px 1px rgba(60, 64, 67, 0.15);\n",
              "      fill: #174EA6;\n",
              "    }\n",
              "\n",
              "    .colab-df-buttons div {\n",
              "      margin-bottom: 4px;\n",
              "    }\n",
              "\n",
              "    [theme=dark] .colab-df-convert {\n",
              "      background-color: #3B4455;\n",
              "      fill: #D2E3FC;\n",
              "    }\n",
              "\n",
              "    [theme=dark] .colab-df-convert:hover {\n",
              "      background-color: #434B5C;\n",
              "      box-shadow: 0px 1px 3px 1px rgba(0, 0, 0, 0.15);\n",
              "      filter: drop-shadow(0px 1px 2px rgba(0, 0, 0, 0.3));\n",
              "      fill: #FFFFFF;\n",
              "    }\n",
              "  </style>\n",
              "\n",
              "    <script>\n",
              "      const buttonEl =\n",
              "        document.querySelector('#df-c1e358ab-1360-40f5-8c4a-49b0b1d32b63 button.colab-df-convert');\n",
              "      buttonEl.style.display =\n",
              "        google.colab.kernel.accessAllowed ? 'block' : 'none';\n",
              "\n",
              "      async function convertToInteractive(key) {\n",
              "        const element = document.querySelector('#df-c1e358ab-1360-40f5-8c4a-49b0b1d32b63');\n",
              "        const dataTable =\n",
              "          await google.colab.kernel.invokeFunction('convertToInteractive',\n",
              "                                                    [key], {});\n",
              "        if (!dataTable) return;\n",
              "\n",
              "        const docLinkHtml = 'Like what you see? Visit the ' +\n",
              "          '<a target=\"_blank\" href=https://colab.research.google.com/notebooks/data_table.ipynb>data table notebook</a>'\n",
              "          + ' to learn more about interactive tables.';\n",
              "        element.innerHTML = '';\n",
              "        dataTable['output_type'] = 'display_data';\n",
              "        await google.colab.output.renderOutput(dataTable, element);\n",
              "        const docLink = document.createElement('div');\n",
              "        docLink.innerHTML = docLinkHtml;\n",
              "        element.appendChild(docLink);\n",
              "      }\n",
              "    </script>\n",
              "  </div>\n",
              "\n",
              "    </div>\n",
              "  </div>\n"
            ],
            "application/vnd.google.colaboratory.intrinsic+json": {
              "type": "dataframe",
              "repr_error": "0"
            }
          },
          "metadata": {},
          "execution_count": 75
        }
      ],
      "source": [
        "url='https://raw.githubusercontent.com/lukes/ISO-3166-Countries-with-Regional-Codes/master/all/all.csv'\n",
        "dataframe=pd.read_csv(url)\n",
        "dataframe[dataframe['alpha-2']=='AX'].head(2)"
      ]
    },
    {
      "cell_type": "markdown",
      "source": [
        "## Задание"
      ],
      "metadata": {
        "id": "7EW7X5_CHjj-"
      }
    },
    {
      "cell_type": "markdown",
      "metadata": {
        "id": "ee6c4758"
      },
      "source": [
        "2.3.1 Задание\n",
        "\n",
        "Найдите евклидово расстояние между двумя Series (точками) a и b, не\n",
        "используя встроенную формулу."
      ]
    },
    {
      "cell_type": "code",
      "execution_count": null,
      "metadata": {
        "id": "aafc1201",
        "outputId": "1a093f6c-3821-4bf5-8de4-dfe120ab0401",
        "colab": {
          "base_uri": "https://localhost:8080/"
        }
      },
      "outputs": [
        {
          "output_type": "stream",
          "name": "stdout",
          "text": [
            "3.7416573867739413\n"
          ]
        }
      ],
      "source": [
        "a = pd.Series([5, 1, 7])\n",
        "b = pd.Series([3, 2, 4])\n",
        "print(sum((a - b)**2)**0.5)"
      ]
    },
    {
      "cell_type": "markdown",
      "source": [
        "Ответ:\n",
        "```\n",
        "3.7416573867739413\n",
        "```"
      ],
      "metadata": {
        "id": "6bojEi6xqIpp"
      }
    },
    {
      "cell_type": "markdown",
      "metadata": {
        "id": "b6564391"
      },
      "source": [
        "2.3.2 Задание\n",
        "\n",
        "Найдите в Интернете ссылку на любой csv файл и сформируйте из него\n",
        "фрейм данных (например, коллекцию фреймов данных можно найти\n",
        "здесь: https://github.com/akmand/datasets)."
      ]
    },
    {
      "cell_type": "code",
      "execution_count": null,
      "metadata": {
        "id": "ac585e1c",
        "outputId": "9c5bed2b-2160-4045-8821-619315ccfc75",
        "colab": {
          "base_uri": "https://localhost:8080/"
        }
      },
      "outputs": [
        {
          "output_type": "stream",
          "name": "stdout",
          "text": [
            "     genhlth  exerany  hlthplan  smoke100  height  weight  wtdesire  age  \\\n",
            "0       good        0         1         0      70     175       175   77   \n",
            "1       good        0         1         1      64     125       115   33   \n",
            "2       good        1         1         1      60     105       105   49   \n",
            "3       good        1         1         0      66     132       124   42   \n",
            "4  very good        0         1         0      61     150       130   55   \n",
            "\n",
            "  gender  \n",
            "0      m  \n",
            "1      f  \n",
            "2      f  \n",
            "3      f  \n",
            "4      f  \n"
          ]
        }
      ],
      "source": [
        "url = 'https://raw.githubusercontent.com/akmand/datasets/main/cdc.csv'\n",
        "dataframe = pd.read_csv(url)\n",
        "print(dataframe.head())\n"
      ]
    },
    {
      "cell_type": "markdown",
      "source": [
        "Ответ:\n",
        "```\n",
        "     genhlth  exerany  hlthplan  smoke100  height  weight  wtdesire  age  \\\n",
        "0       good        0         1         0      70     175       175   77   \n",
        "1       good        0         1         1      64     125       115   33   \n",
        "2       good        1         1         1      60     105       105   49   \n",
        "3       good        1         1         0      66     132       124   42   \n",
        "4  very good        0         1         0      61     150       130   55   \n",
        "\n",
        "  gender  \n",
        "0      m  \n",
        "1      f  \n",
        "2      f  \n",
        "3      f  \n",
        "4      f  \n",
        "```"
      ],
      "metadata": {
        "id": "PHp3jwMrqJWr"
      }
    },
    {
      "cell_type": "markdown",
      "metadata": {
        "id": "eb19497e"
      },
      "source": [
        "2.3.3 Задание\n",
        "\n",
        "Проделайте с получившемся из предыдущего задания фреймом данных те же действия, что и в примерах 2.2.5-2.2.7."
      ]
    },
    {
      "cell_type": "code",
      "execution_count": null,
      "metadata": {
        "id": "b79b317b",
        "outputId": "9c3385b0-2276-487a-ac98-f09b0bf90520",
        "colab": {
          "base_uri": "https://localhost:8080/"
        }
      },
      "outputs": [
        {
          "output_type": "stream",
          "name": "stdout",
          "text": [
            "Index(['genhlth', 'exerany', 'hlthplan', 'smoke100', 'height', 'weight',\n",
            "       'wtdesire', 'age', 'gender'],\n",
            "      dtype='object')\n",
            "  genhlth  exerany  hlthplan  smoke100  height  weight  wtdesire  age gender\n",
            "0    good        0         1         0      70     175       175   77      m\n",
            "1    good        0         1         1      64     125       115   33      f\n",
            "\n",
            "\n",
            "      genhlth  exerany  hlthplan  smoke100  height  weight  wtdesire  age  \\\n",
            "19997    poor        0         1         0      65     216       150   57   \n",
            "19998    good        1         1         0      67     165       165   81   \n",
            "19999    good        1         1         1      69     170       165   83   \n",
            "\n",
            "      gender  \n",
            "19997      f  \n",
            "19998      f  \n",
            "19999      m  \n",
            "\n",
            "\n",
            "(20000, 9)\n",
            "\n",
            "\n",
            "            exerany      hlthplan      smoke100        height       weight  \\\n",
            "count  20000.000000  20000.000000  20000.000000  20000.000000  20000.00000   \n",
            "mean       0.745700      0.873800      0.472050     67.182900    169.68295   \n",
            "std        0.435478      0.332083      0.499231      4.125954     40.08097   \n",
            "min        0.000000      0.000000      0.000000     48.000000     68.00000   \n",
            "25%        0.000000      1.000000      0.000000     64.000000    140.00000   \n",
            "50%        1.000000      1.000000      0.000000     67.000000    165.00000   \n",
            "75%        1.000000      1.000000      1.000000     70.000000    190.00000   \n",
            "max        1.000000      1.000000      1.000000     93.000000    500.00000   \n",
            "\n",
            "           wtdesire           age  \n",
            "count  20000.000000  20000.000000  \n",
            "mean     155.093850     45.068250  \n",
            "std       32.013306     17.192689  \n",
            "min       68.000000     18.000000  \n",
            "25%      130.000000     31.000000  \n",
            "50%      150.000000     43.000000  \n",
            "75%      175.000000     57.000000  \n",
            "max      680.000000     99.000000  \n",
            "\n",
            "\n",
            "0             good\n",
            "1             good\n",
            "2             good\n",
            "3             good\n",
            "4        very good\n",
            "           ...    \n",
            "19995         good\n",
            "19996    excellent\n",
            "19997         poor\n",
            "19998         good\n",
            "19999         good\n",
            "Name: genhlth, Length: 20000, dtype: object\n",
            "\n",
            "\n",
            "   smoke100  height  weight\n",
            "2         1      60     105\n",
            "3         0      66     132\n",
            "4         0      61     150\n",
            "\n",
            "\n",
            "  genhlth  exerany  hlthplan  smoke100  height  weight  wtdesire  age gender\n",
            "0    good        0         1         0      70     175       175   77      m\n",
            "1    good        0         1         1      64     125       115   33      f\n",
            "2    good        1         1         1      60     105       105   49      f\n",
            "3    good        1         1         0      66     132       124   42      f\n",
            "8    good        0         1         1      65     150       130   27      f\n"
          ]
        }
      ],
      "source": [
        "import pandas as pd\n",
        "\n",
        "url = 'https://raw.githubusercontent.com/akmand/datasets/main/cdc.csv'\n",
        "dataframe = pd.read_csv(url)\n",
        "\n",
        "print(dataframe.columns)\n",
        "# Анализ характеристик фрейма\n",
        "print(dataframe.head(2))\n",
        "print(\"\\n\")\n",
        "print(dataframe.tail(3))\n",
        "print(\"\\n\")\n",
        "print(dataframe.shape)\n",
        "print(\"\\n\")\n",
        "print(dataframe.describe())  # Печать сводной статистики\n",
        "print(\"\\n\")\n",
        "\n",
        "# Выбор отдельных данных или фрагментов\n",
        "print(dataframe['genhlth'])  # Выбор одного столбца\n",
        "print(\"\\n\")\n",
        "print(dataframe.iloc[2:5, 3:6])  # Выбор фрагмента столбцов и строк iloc\n",
        "print(\"\\n\")\n",
        "\n",
        "# Фильтр фрейма данных на основе условия\n",
        "filtered_df = dataframe[dataframe['genhlth']=='good' ]  # Выбор строк, где 1 столбец > 13.0\n",
        "print(filtered_df.head())\n",
        "\n"
      ]
    },
    {
      "cell_type": "markdown",
      "source": [
        "Ответ:\n",
        "```\n",
        "Index(['genhlth', 'exerany', 'hlthplan', 'smoke100', 'height', 'weight',\n",
        "       'wtdesire', 'age', 'gender'],\n",
        "      dtype='object')\n",
        "  genhlth  exerany  hlthplan  smoke100  height  weight  wtdesire  age gender\n",
        "0    good        0         1         0      70     175       175   77      m\n",
        "1    good        0         1         1      64     125       115   33      f\n",
        "\n",
        "\n",
        "      genhlth  exerany  hlthplan  smoke100  height  weight  wtdesire  age  \\\n",
        "19997    poor        0         1         0      65     216       150   57   \n",
        "19998    good        1         1         0      67     165       165   81   \n",
        "19999    good        1         1         1      69     170       165   83   \n",
        "\n",
        "      gender  \n",
        "19997      f  \n",
        "19998      f  \n",
        "19999      m  \n",
        "\n",
        "\n",
        "(20000, 9)\n",
        "\n",
        "\n",
        "            exerany      hlthplan      smoke100        height       weight  \\\n",
        "count  20000.000000  20000.000000  20000.000000  20000.000000  20000.00000   \n",
        "mean       0.745700      0.873800      0.472050     67.182900    169.68295   \n",
        "std        0.435478      0.332083      0.499231      4.125954     40.08097   \n",
        "min        0.000000      0.000000      0.000000     48.000000     68.00000   \n",
        "25%        0.000000      1.000000      0.000000     64.000000    140.00000   \n",
        "50%        1.000000      1.000000      0.000000     67.000000    165.00000   \n",
        "75%        1.000000      1.000000      1.000000     70.000000    190.00000   \n",
        "max        1.000000      1.000000      1.000000     93.000000    500.00000   \n",
        "\n",
        "           wtdesire           age  \n",
        "count  20000.000000  20000.000000  \n",
        "mean     155.093850     45.068250  \n",
        "std       32.013306     17.192689  \n",
        "min       68.000000     18.000000  \n",
        "25%      130.000000     31.000000  \n",
        "50%      150.000000     43.000000  \n",
        "75%      175.000000     57.000000  \n",
        "max      680.000000     99.000000  \n",
        "\n",
        "\n",
        "0             good\n",
        "1             good\n",
        "2             good\n",
        "3             good\n",
        "4        very good\n",
        "           ...    \n",
        "19995         good\n",
        "19996    excellent\n",
        "19997         poor\n",
        "19998         good\n",
        "19999         good\n",
        "Name: genhlth, Length: 20000, dtype: object\n",
        "\n",
        "\n",
        "   smoke100  height  weight\n",
        "2         1      60     105\n",
        "3         0      66     132\n",
        "4         0      61     150\n",
        "\n",
        "\n",
        "  genhlth  exerany  hlthplan  smoke100  height  weight  wtdesire  age gender\n",
        "0    good        0         1         0      70     175       175   77      m\n",
        "1    good        0         1         1      64     125       115   33      f\n",
        "2    good        1         1         1      60     105       105   49      f\n",
        "3    good        1         1         0      66     132       124   42      f\n",
        "8    good        0         1         1      65     150       130   27      f\n",
        "```"
      ],
      "metadata": {
        "id": "sSZZMl_MqKI0"
      }
    },
    {
      "cell_type": "markdown",
      "source": [
        "# Работа с числовыми данными\n"
      ],
      "metadata": {
        "id": "GXuIycKgGVJo"
      }
    },
    {
      "cell_type": "markdown",
      "source": [
        "3.1. Теоретический материал – Работа с числовыми данными\n",
        "\n",
        "Количественные данные что-то измеряют – будь то размер класса,\n",
        "ежемесячные продажи или оценки учащихся. Естественным способом\n",
        "представления этих величин является численным (например, 150 студентов,\n",
        "$529 392 продаж).\n",
        "\n",
        "Нормализация данных — это общепринятая задача предобработки в\n",
        "машинном обучении. Многие алгоритмы предполагают, что все признаки\n",
        "находятся в единой шкале, как правило, от 0 до 1 или от -1 до 1.\n",
        "\n",
        "Существует множество способов нормализации значений признаков,\n",
        "чтобы масштабировать их к единому диапазону и использовать в различных\n",
        "моделях машинного обучения. В зависимости от используемой функции, их\n",
        "можно разделить на 2 большие группы: линейные и нелинейные. При\n",
        "нелинейной нормализации в расчетных соотношениях используются\n",
        "функции логистической сигмоиды или гиперболического тангенса. В\n",
        "линейной нормализации изменение переменных осуществляется\n",
        "пропорционально, по линейному закону.\n",
        "\n",
        "На практике наиболее распространены следующие методы\n",
        "нормализации признаков:\n",
        "- Минимакс – линейное преобразование данных в диапазоне [0..1], где\n",
        "минимальное и максимальное масштабируемые значения\n",
        "соответствуют 0 и 1 соответственно;\n",
        "- Z-масштабирование данных на основе среднего значения и\n",
        "стандартного отклонения: производят деление разницы между\n",
        "переменной и средним значением на стандартное отклонение.\n",
        "\n",
        "При масштабировании данных мы будем использовать одну из\n",
        "популярных библиотек машинного обучения Scikit-learn. Библиотека\n",
        "содержит пакет sklearn.preprocessing, который предоставляет широкие\n",
        "возможности для нормализации данных. Следует отметить, что в целом\n",
        "алгоритмы обучения выигрывают от стандартизации набора данных."
      ],
      "metadata": {
        "id": "OiEkgMMTBDsQ"
      }
    },
    {
      "cell_type": "markdown",
      "source": [
        "##Пример"
      ],
      "metadata": {
        "id": "uxuz8OzZH3Ys"
      }
    },
    {
      "cell_type": "markdown",
      "metadata": {
        "id": "7545e967"
      },
      "source": [
        "3.2.1 Пример\n",
        "\n",
        "Прошкалируйте числовой признак в диапазон между двумя значениями"
      ]
    },
    {
      "cell_type": "code",
      "execution_count": null,
      "metadata": {
        "id": "6794bc0f",
        "outputId": "14c9b917-a7bf-49e8-8cfd-5e23e38caa7f",
        "colab": {
          "base_uri": "https://localhost:8080/"
        }
      },
      "outputs": [
        {
          "output_type": "execute_result",
          "data": {
            "text/plain": [
              "array([[0.        ],\n",
              "       [0.28571429],\n",
              "       [0.35714286],\n",
              "       [0.42857143],\n",
              "       [1.        ]])"
            ]
          },
          "metadata": {},
          "execution_count": 84
        }
      ],
      "source": [
        "import numpy as np\n",
        "from sklearn import preprocessing\n",
        "feature=np.array([[-500.5],[-100.1],[0],[100.1],[900.9]])\n",
        "minmax_scale=preprocessing.MinMaxScaler(feature_range=(0,1))\n",
        "scaled_feature=minmax_scale.fit_transform(feature)\n",
        "scaled_feature"
      ]
    },
    {
      "cell_type": "markdown",
      "source": [
        "Ответ:\n",
        "```\n",
        "array([[0.        ],\n",
        "       [0.28571429],\n",
        "       [0.35714286],\n",
        "       [0.42857143],\n",
        "       [1.        ]])\n",
        "```"
      ],
      "metadata": {
        "id": "6vuwD4vV_7JL"
      }
    },
    {
      "cell_type": "markdown",
      "metadata": {
        "id": "7c37d40a"
      },
      "source": [
        "3.2.2 Пример\n",
        "\n",
        "Преобразуйте признак, чтобы он имел среднее значение 0 и стандартное отклонение 1"
      ]
    },
    {
      "cell_type": "code",
      "execution_count": null,
      "metadata": {
        "id": "89594919",
        "outputId": "980299aa-0b7a-4ad6-85e0-f9deb8d4c77e",
        "colab": {
          "base_uri": "https://localhost:8080/"
        }
      },
      "outputs": [
        {
          "output_type": "stream",
          "name": "stdout",
          "text": [
            "Среднее: 0\n",
            "Стандартное отклонение: 1.0\n"
          ]
        },
        {
          "output_type": "execute_result",
          "data": {
            "text/plain": [
              "array([[-0.76058269],\n",
              "       [-0.54177196],\n",
              "       [-0.35009716],\n",
              "       [-0.32271504],\n",
              "       [ 1.97516685]])"
            ]
          },
          "metadata": {},
          "execution_count": 86
        }
      ],
      "source": [
        "import numpy as np\n",
        "from sklearn import preprocessing\n",
        "x=np.array([[-1000.1],[-200.2],[500.5],[600.6],[9000.9]])\n",
        "scaler=preprocessing.StandardScaler()\n",
        "standardized=scaler.fit_transform(x)\n",
        "print(\"Среднее:\", round(standardized.mean()))\n",
        "print(\"Стандартное отклонение:\",standardized.std())\n",
        "standardized"
      ]
    },
    {
      "cell_type": "markdown",
      "source": [
        "Ответ:\n",
        "```\n",
        "Среднее: 0\n",
        "Стандартное отклонение: 1.0\n",
        "array([[-0.76058269],\n",
        "       [-0.54177196],\n",
        "       [-0.35009716],\n",
        "       [-0.32271504],\n",
        "       [ 1.97516685]])\n",
        "```"
      ],
      "metadata": {
        "id": "J92Gc-lXB5mS"
      }
    },
    {
      "cell_type": "markdown",
      "metadata": {
        "id": "e607341b"
      },
      "source": [
        "3.2.3. Пример\n",
        "\n",
        "Дан фрейм данных\n",
        "\n",
        "dfTest = pd.DataFrame\n",
        "\n",
        "({'A':[14.00,90.20,90.95,96.27,91.21],\n",
        "\n",
        "'B':[103.02,107.26,110.35,114.23,114.68],\n",
        "\n",
        "'C':['big','small','big','small','small']})\n",
        "    \n",
        "Необходимо масштабировать его числовые столбцы."
      ]
    },
    {
      "cell_type": "code",
      "execution_count": null,
      "metadata": {
        "id": "0599d92f",
        "outputId": "48e74ce3-dfc1-4c33-cde5-4541fb5bfa4c",
        "colab": {
          "base_uri": "https://localhost:8080/",
          "height": 206
        }
      },
      "outputs": [
        {
          "output_type": "execute_result",
          "data": {
            "text/plain": [
              "          A         B      C\n",
              "0  0.000000  0.000000    big\n",
              "1  0.926219  0.363636  small\n",
              "2  0.935335  0.628645    big\n",
              "3  1.000000  0.961407  small\n",
              "4  0.938495  1.000000  small"
            ],
            "text/html": [
              "\n",
              "  <div id=\"df-5223f6a4-479b-4358-ab5c-4b08074b024d\" class=\"colab-df-container\">\n",
              "    <div>\n",
              "<style scoped>\n",
              "    .dataframe tbody tr th:only-of-type {\n",
              "        vertical-align: middle;\n",
              "    }\n",
              "\n",
              "    .dataframe tbody tr th {\n",
              "        vertical-align: top;\n",
              "    }\n",
              "\n",
              "    .dataframe thead th {\n",
              "        text-align: right;\n",
              "    }\n",
              "</style>\n",
              "<table border=\"1\" class=\"dataframe\">\n",
              "  <thead>\n",
              "    <tr style=\"text-align: right;\">\n",
              "      <th></th>\n",
              "      <th>A</th>\n",
              "      <th>B</th>\n",
              "      <th>C</th>\n",
              "    </tr>\n",
              "  </thead>\n",
              "  <tbody>\n",
              "    <tr>\n",
              "      <th>0</th>\n",
              "      <td>0.000000</td>\n",
              "      <td>0.000000</td>\n",
              "      <td>big</td>\n",
              "    </tr>\n",
              "    <tr>\n",
              "      <th>1</th>\n",
              "      <td>0.926219</td>\n",
              "      <td>0.363636</td>\n",
              "      <td>small</td>\n",
              "    </tr>\n",
              "    <tr>\n",
              "      <th>2</th>\n",
              "      <td>0.935335</td>\n",
              "      <td>0.628645</td>\n",
              "      <td>big</td>\n",
              "    </tr>\n",
              "    <tr>\n",
              "      <th>3</th>\n",
              "      <td>1.000000</td>\n",
              "      <td>0.961407</td>\n",
              "      <td>small</td>\n",
              "    </tr>\n",
              "    <tr>\n",
              "      <th>4</th>\n",
              "      <td>0.938495</td>\n",
              "      <td>1.000000</td>\n",
              "      <td>small</td>\n",
              "    </tr>\n",
              "  </tbody>\n",
              "</table>\n",
              "</div>\n",
              "    <div class=\"colab-df-buttons\">\n",
              "\n",
              "  <div class=\"colab-df-container\">\n",
              "    <button class=\"colab-df-convert\" onclick=\"convertToInteractive('df-5223f6a4-479b-4358-ab5c-4b08074b024d')\"\n",
              "            title=\"Convert this dataframe to an interactive table.\"\n",
              "            style=\"display:none;\">\n",
              "\n",
              "  <svg xmlns=\"http://www.w3.org/2000/svg\" height=\"24px\" viewBox=\"0 -960 960 960\">\n",
              "    <path d=\"M120-120v-720h720v720H120Zm60-500h600v-160H180v160Zm220 220h160v-160H400v160Zm0 220h160v-160H400v160ZM180-400h160v-160H180v160Zm440 0h160v-160H620v160ZM180-180h160v-160H180v160Zm440 0h160v-160H620v160Z\"/>\n",
              "  </svg>\n",
              "    </button>\n",
              "\n",
              "  <style>\n",
              "    .colab-df-container {\n",
              "      display:flex;\n",
              "      gap: 12px;\n",
              "    }\n",
              "\n",
              "    .colab-df-convert {\n",
              "      background-color: #E8F0FE;\n",
              "      border: none;\n",
              "      border-radius: 50%;\n",
              "      cursor: pointer;\n",
              "      display: none;\n",
              "      fill: #1967D2;\n",
              "      height: 32px;\n",
              "      padding: 0 0 0 0;\n",
              "      width: 32px;\n",
              "    }\n",
              "\n",
              "    .colab-df-convert:hover {\n",
              "      background-color: #E2EBFA;\n",
              "      box-shadow: 0px 1px 2px rgba(60, 64, 67, 0.3), 0px 1px 3px 1px rgba(60, 64, 67, 0.15);\n",
              "      fill: #174EA6;\n",
              "    }\n",
              "\n",
              "    .colab-df-buttons div {\n",
              "      margin-bottom: 4px;\n",
              "    }\n",
              "\n",
              "    [theme=dark] .colab-df-convert {\n",
              "      background-color: #3B4455;\n",
              "      fill: #D2E3FC;\n",
              "    }\n",
              "\n",
              "    [theme=dark] .colab-df-convert:hover {\n",
              "      background-color: #434B5C;\n",
              "      box-shadow: 0px 1px 3px 1px rgba(0, 0, 0, 0.15);\n",
              "      filter: drop-shadow(0px 1px 2px rgba(0, 0, 0, 0.3));\n",
              "      fill: #FFFFFF;\n",
              "    }\n",
              "  </style>\n",
              "\n",
              "    <script>\n",
              "      const buttonEl =\n",
              "        document.querySelector('#df-5223f6a4-479b-4358-ab5c-4b08074b024d button.colab-df-convert');\n",
              "      buttonEl.style.display =\n",
              "        google.colab.kernel.accessAllowed ? 'block' : 'none';\n",
              "\n",
              "      async function convertToInteractive(key) {\n",
              "        const element = document.querySelector('#df-5223f6a4-479b-4358-ab5c-4b08074b024d');\n",
              "        const dataTable =\n",
              "          await google.colab.kernel.invokeFunction('convertToInteractive',\n",
              "                                                    [key], {});\n",
              "        if (!dataTable) return;\n",
              "\n",
              "        const docLinkHtml = 'Like what you see? Visit the ' +\n",
              "          '<a target=\"_blank\" href=https://colab.research.google.com/notebooks/data_table.ipynb>data table notebook</a>'\n",
              "          + ' to learn more about interactive tables.';\n",
              "        element.innerHTML = '';\n",
              "        dataTable['output_type'] = 'display_data';\n",
              "        await google.colab.output.renderOutput(dataTable, element);\n",
              "        const docLink = document.createElement('div');\n",
              "        docLink.innerHTML = docLinkHtml;\n",
              "        element.appendChild(docLink);\n",
              "      }\n",
              "    </script>\n",
              "  </div>\n",
              "\n",
              "\n",
              "<div id=\"df-12ec7186-04e9-41f2-97ec-2512e4b0d09a\">\n",
              "  <button class=\"colab-df-quickchart\" onclick=\"quickchart('df-12ec7186-04e9-41f2-97ec-2512e4b0d09a')\"\n",
              "            title=\"Suggest charts\"\n",
              "            style=\"display:none;\">\n",
              "\n",
              "<svg xmlns=\"http://www.w3.org/2000/svg\" height=\"24px\"viewBox=\"0 0 24 24\"\n",
              "     width=\"24px\">\n",
              "    <g>\n",
              "        <path d=\"M19 3H5c-1.1 0-2 .9-2 2v14c0 1.1.9 2 2 2h14c1.1 0 2-.9 2-2V5c0-1.1-.9-2-2-2zM9 17H7v-7h2v7zm4 0h-2V7h2v10zm4 0h-2v-4h2v4z\"/>\n",
              "    </g>\n",
              "</svg>\n",
              "  </button>\n",
              "\n",
              "<style>\n",
              "  .colab-df-quickchart {\n",
              "      --bg-color: #E8F0FE;\n",
              "      --fill-color: #1967D2;\n",
              "      --hover-bg-color: #E2EBFA;\n",
              "      --hover-fill-color: #174EA6;\n",
              "      --disabled-fill-color: #AAA;\n",
              "      --disabled-bg-color: #DDD;\n",
              "  }\n",
              "\n",
              "  [theme=dark] .colab-df-quickchart {\n",
              "      --bg-color: #3B4455;\n",
              "      --fill-color: #D2E3FC;\n",
              "      --hover-bg-color: #434B5C;\n",
              "      --hover-fill-color: #FFFFFF;\n",
              "      --disabled-bg-color: #3B4455;\n",
              "      --disabled-fill-color: #666;\n",
              "  }\n",
              "\n",
              "  .colab-df-quickchart {\n",
              "    background-color: var(--bg-color);\n",
              "    border: none;\n",
              "    border-radius: 50%;\n",
              "    cursor: pointer;\n",
              "    display: none;\n",
              "    fill: var(--fill-color);\n",
              "    height: 32px;\n",
              "    padding: 0;\n",
              "    width: 32px;\n",
              "  }\n",
              "\n",
              "  .colab-df-quickchart:hover {\n",
              "    background-color: var(--hover-bg-color);\n",
              "    box-shadow: 0 1px 2px rgba(60, 64, 67, 0.3), 0 1px 3px 1px rgba(60, 64, 67, 0.15);\n",
              "    fill: var(--button-hover-fill-color);\n",
              "  }\n",
              "\n",
              "  .colab-df-quickchart-complete:disabled,\n",
              "  .colab-df-quickchart-complete:disabled:hover {\n",
              "    background-color: var(--disabled-bg-color);\n",
              "    fill: var(--disabled-fill-color);\n",
              "    box-shadow: none;\n",
              "  }\n",
              "\n",
              "  .colab-df-spinner {\n",
              "    border: 2px solid var(--fill-color);\n",
              "    border-color: transparent;\n",
              "    border-bottom-color: var(--fill-color);\n",
              "    animation:\n",
              "      spin 1s steps(1) infinite;\n",
              "  }\n",
              "\n",
              "  @keyframes spin {\n",
              "    0% {\n",
              "      border-color: transparent;\n",
              "      border-bottom-color: var(--fill-color);\n",
              "      border-left-color: var(--fill-color);\n",
              "    }\n",
              "    20% {\n",
              "      border-color: transparent;\n",
              "      border-left-color: var(--fill-color);\n",
              "      border-top-color: var(--fill-color);\n",
              "    }\n",
              "    30% {\n",
              "      border-color: transparent;\n",
              "      border-left-color: var(--fill-color);\n",
              "      border-top-color: var(--fill-color);\n",
              "      border-right-color: var(--fill-color);\n",
              "    }\n",
              "    40% {\n",
              "      border-color: transparent;\n",
              "      border-right-color: var(--fill-color);\n",
              "      border-top-color: var(--fill-color);\n",
              "    }\n",
              "    60% {\n",
              "      border-color: transparent;\n",
              "      border-right-color: var(--fill-color);\n",
              "    }\n",
              "    80% {\n",
              "      border-color: transparent;\n",
              "      border-right-color: var(--fill-color);\n",
              "      border-bottom-color: var(--fill-color);\n",
              "    }\n",
              "    90% {\n",
              "      border-color: transparent;\n",
              "      border-bottom-color: var(--fill-color);\n",
              "    }\n",
              "  }\n",
              "</style>\n",
              "\n",
              "  <script>\n",
              "    async function quickchart(key) {\n",
              "      const quickchartButtonEl =\n",
              "        document.querySelector('#' + key + ' button');\n",
              "      quickchartButtonEl.disabled = true;  // To prevent multiple clicks.\n",
              "      quickchartButtonEl.classList.add('colab-df-spinner');\n",
              "      try {\n",
              "        const charts = await google.colab.kernel.invokeFunction(\n",
              "            'suggestCharts', [key], {});\n",
              "      } catch (error) {\n",
              "        console.error('Error during call to suggestCharts:', error);\n",
              "      }\n",
              "      quickchartButtonEl.classList.remove('colab-df-spinner');\n",
              "      quickchartButtonEl.classList.add('colab-df-quickchart-complete');\n",
              "    }\n",
              "    (() => {\n",
              "      let quickchartButtonEl =\n",
              "        document.querySelector('#df-12ec7186-04e9-41f2-97ec-2512e4b0d09a button');\n",
              "      quickchartButtonEl.style.display =\n",
              "        google.colab.kernel.accessAllowed ? 'block' : 'none';\n",
              "    })();\n",
              "  </script>\n",
              "</div>\n",
              "    </div>\n",
              "  </div>\n"
            ],
            "application/vnd.google.colaboratory.intrinsic+json": {
              "type": "dataframe",
              "variable_name": "dfTest",
              "summary": "{\n  \"name\": \"dfTest\",\n  \"rows\": 5,\n  \"fields\": [\n    {\n      \"column\": \"A\",\n      \"properties\": {\n        \"dtype\": \"number\",\n        \"std\": 0.42586132106217445,\n        \"min\": 0.0,\n        \"max\": 1.0,\n        \"num_unique_values\": 5,\n        \"samples\": [\n          0.9262185486811719,\n          0.9384951987358697,\n          0.9353348729792149\n        ],\n        \"semantic_type\": \"\",\n        \"description\": \"\"\n      }\n    },\n    {\n      \"column\": \"B\",\n      \"properties\": {\n        \"dtype\": \"number\",\n        \"std\": 0.42037899830617165,\n        \"min\": 0.0,\n        \"max\": 1.0,\n        \"num_unique_values\": 5,\n        \"samples\": [\n          0.3636363636363651,\n          1.0,\n          0.6286449399656941\n        ],\n        \"semantic_type\": \"\",\n        \"description\": \"\"\n      }\n    },\n    {\n      \"column\": \"C\",\n      \"properties\": {\n        \"dtype\": \"category\",\n        \"num_unique_values\": 2,\n        \"samples\": [\n          \"small\",\n          \"big\"\n        ],\n        \"semantic_type\": \"\",\n        \"description\": \"\"\n      }\n    }\n  ]\n}"
            }
          },
          "metadata": {},
          "execution_count": 85
        }
      ],
      "source": [
        "import pandas as pd\n",
        "from sklearn.preprocessing import MinMaxScaler\n",
        "scaler=MinMaxScaler()\n",
        "dfTest=pd.DataFrame({'A':[14.00,90.20,90.95,96.27,91.21],\n",
        "'B':[103.02,107.26,110.35,114.23,114.68],\n",
        "'C':['big','small','big','small','small']})\n",
        "\n",
        "dfTest[['A','B']]=scaler.fit_transform(dfTest[['A','B']])\n",
        "dfTest"
      ]
    },
    {
      "cell_type": "markdown",
      "source": [
        "## Задание"
      ],
      "metadata": {
        "id": "VG1uhrLaKxXL"
      }
    },
    {
      "cell_type": "markdown",
      "metadata": {
        "id": "2e426e41"
      },
      "source": [
        "3.3.2 Задание\n",
        "\n",
        "Загрузить фрейм данных по ссылке:\n",
        "https://raw.githubusercontent.com/akmand/datasets/master/iris.csv.\n",
        "Необходимо выполнить нормализацию первого числового признака\n",
        "(sepal_length_cm) с использованием минимаксного преобразования, а\n",
        "второго (sepal_width_cm) с задействованием z-масштабирования."
      ]
    },
    {
      "cell_type": "code",
      "execution_count": null,
      "metadata": {
        "id": "f7497f20",
        "outputId": "e6fd54a3-57c4-40d8-825c-05e455be59db",
        "colab": {
          "base_uri": "https://localhost:8080/"
        }
      },
      "outputs": [
        {
          "output_type": "stream",
          "name": "stdout",
          "text": [
            "   sepal_length_cm  sepal_width_cm  petal_length_cm  petal_width_cm\n",
            "0         0.222222        1.032057              1.4             0.2\n",
            "1         0.166667       -0.124958              1.4             0.2\n"
          ]
        }
      ],
      "source": [
        "import pandas as pd\n",
        "from sklearn.preprocessing import MinMaxScaler, StandardScaler\n",
        "url = \"https://raw.githubusercontent.com/akmand/datasets/master/iris.csv\"\n",
        "df = pd.read_csv(url)\n",
        "X = df.drop('species', axis=1)\n",
        "y = df['species']\n",
        "scaler_minmax = MinMaxScaler()\n",
        "X['sepal_length_cm'] = scaler_minmax.fit_transform(X[['sepal_length_cm']])\n",
        "scaler_z = StandardScaler()\n",
        "X['sepal_width_cm'] = scaler_z.fit_transform(X[['sepal_width_cm']])\n",
        "print(X.head(2))"
      ]
    },
    {
      "cell_type": "markdown",
      "source": [
        "Ответ:\n",
        "```\n",
        "   sepal_length_cm  sepal_width_cm  petal_length_cm  petal_width_cm\n",
        "0         0.222222        1.032057              1.4             0.2\n",
        "1         0.166667       -0.124958              1.4             0.2\n",
        "```"
      ],
      "metadata": {
        "id": "T9DVK-vHB7Au"
      }
    }
  ]
}